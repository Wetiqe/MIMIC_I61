{
 "cells": [
  {
   "cell_type": "markdown",
   "metadata": {},
   "source": [
    "**Descsribe our project**"
   ]
  },
  {
   "cell_type": "markdown",
   "metadata": {
    "id": "-QwbY9TtYITz"
   },
   "source": [
    "# About MIMIC dataset"
   ]
  },
  {
   "cell_type": "markdown",
   "metadata": {},
   "source": [
    "**The overview of MIMIC data set: inlcuidng background, goal of MIMIC, content of the database**\n",
    "\n",
    
    "MIMIC is a very large dataset, hence we only selected some part of it. We included the tables from four modules: core, ed, hosp, and icu:\n",
   
    
    
   "* core:**The core module stores patient tracking information necessary for any data analysis using MIMIC-IV. The core module contains three tables: patients, admissions, and transfers. These tables provide demographics for the patient, a record for each hospitalization, and a record for each ward stay within a hospitalization.**\n",
    
    
   
    "* ed:**Patient stays are tracked in the edstays table. Each row of the edstays table has a unique stay_id, which represents a unique patient stay in the ED. The edstays table contains the following columns: subject_id, hadm_id, stay_id, intime, and outtime. The intime indicates the time at which the patient was admitted to the ED, and the outtime indicates the time at which the patient was discharged from the ED. If the patient was admitted to the hospital following their ED stay, the hadm_id column will be populated with an identifier representing their hospital stay. hadm_id can be linked with the hadm_id in MIMIC-IV to obtain further detail about the patient’s hospital stay. Finally, each individual is assigned a unique subject_id, and patients with multiple ED stays will have the same subject_id across stays in the edstays table. Note that subject_id can be linked with MIMIC-IV to obtain patient demographics. subject_id can also be linked with the PatientID DICOM attribute in MIMIC-CXR to obtain chest x-rays for patients if they were taken**\n",
    
    
    
    
    
    "* hosp:**The hosp module contains data derived from the hospital wide EHR. These measurements are predominantly recorded during the hospital stay, though some tables include data from outside the hospital as well (e.g. outpatient laboratory tests in labevents). Information includes laboratory measurements (labevents, d_labitems), microbiology cultures (microbiologyevents, d_micro), provider orders (poe, poe_detail), medication administration (emar, emar_detail), medication prescription (prescriptions, pharmacy), hospital billing information**\n",
    
    
    
    
   
   "* icu:**The icu module contains data sourced from the clinical information system at the BIDMC: MetaVision (iMDSoft). MetaVision tables were denormalized to create a star schema where the icustays and d_items tables link to a set of data tables all suffixed with events. Data documented in the icu module includes intravenous and fluid inputs (inputevents), patient outputs (outputevents), procedures (procedureevents), information documented as a date or time (datetimeevents), and other charted information (chartevents). All events tables contain a stay_id column allowing identification of the associated ICU patient in icustays, and an itemid column allowing identification of the concept documented in d_items.**\n",
  
    
    
    "\n",
    "We will take a glance at these modules first."
   ]
  },
  {
   "cell_type": "code",
   "execution_count": 1,
   "metadata": {
    "executionInfo": {
     "elapsed": 457,
     "status": "ok",
     "timestamp": 1651068381691,
     "user": {
      "displayName": "Jianzhang Ni",
      "userId": "18109982546966884557"
     },
     "user_tz": -60
    },
    "id": "cfEgJ2-ORlFg"
   },
   "outputs": [],
   "source": [
    "import pandas as pd\n",
    "import numpy as np\n",
    "import seaborn as sns\n",
    "from matplotlib import pyplot as plt"
   ]
  },
  {
   "cell_type": "code",
   "execution_count": 12,
   "metadata": {
    "executionInfo": {
     "elapsed": 10021,
     "status": "ok",
     "timestamp": 1651068633081,
     "user": {
      "displayName": "Jianzhang Ni",
      "userId": "18109982546966884557"
     },
     "user_tz": -60
    },
    "id": "KzjeaKWkRuja"
   },
   "outputs": [],
   "source": [
    "# Load the data \n",
    "admissions = pd.read_csv('../data/core/admissions.csv')\n",
    "patients = pd.read_csv('../data/core/patients.csv')\n",
    "diagnose = pd.read_csv('../data/hosp/d_icd_diagnoses.csv')\n",
    "subj_diagnose = pd.read_csv('../data/hosp/diagnoses_icd.csv')\n",
    "vital_raw = pd.read_csv('../data/ed/vitalsign.csv')\n",
    "icu_stays = pd.read_csv('../data/icu/icustays.csv')\n",
    "item_names = pd.read_csv('../data/icu/d_items.csv').set_index('itemid')\n",
    "chart_event = pd.read_csv('../data/icu/chart_event_filtered.csv')"
   ]
  },
  {
   "cell_type": "markdown",
   "metadata": {
    "tags": []
   },
   "source": [
    "## core module "
   ]
  },
  {
   "cell_type": "markdown",
   "metadata": {},
   "source": [
    "The most important table is the `patients` table where the information that is consistent for the lifetime of a patient is stored. This will be used to identify each patient. `dod` column contains the information about mortality inside the hospital which will be used as target in this study.\n",
    "\n"
   ]
  },
  {
   "cell_type": "code",
   "execution_count": 4,
   "metadata": {},
   "outputs": [
    {
     "data": {
      "text/html": [
       "<div>\n",
       "<style scoped>\n",
       "    .dataframe tbody tr th:only-of-type {\n",
       "        vertical-align: middle;\n",
       "    }\n",
       "\n",
       "    .dataframe tbody tr th {\n",
       "        vertical-align: top;\n",
       "    }\n",
       "\n",
       "    .dataframe thead th {\n",
       "        text-align: right;\n",
       "    }\n",
       "</style>\n",
       "<table border=\"1\" class=\"dataframe\">\n",
       "  <thead>\n",
       "    <tr style=\"text-align: right;\">\n",
       "      <th></th>\n",
       "      <th>subject_id</th>\n",
       "      <th>gender</th>\n",
       "      <th>anchor_age</th>\n",
       "      <th>anchor_year</th>\n",
       "      <th>anchor_year_group</th>\n",
       "      <th>dod</th>\n",
       "    </tr>\n",
       "  </thead>\n",
       "  <tbody>\n",
       "    <tr>\n",
       "      <th>0</th>\n",
       "      <td>10000048</td>\n",
       "      <td>F</td>\n",
       "      <td>23</td>\n",
       "      <td>2126</td>\n",
       "      <td>2008 - 2010</td>\n",
       "      <td>NaN</td>\n",
       "    </tr>\n",
       "    <tr>\n",
       "      <th>1</th>\n",
       "      <td>10002723</td>\n",
       "      <td>F</td>\n",
       "      <td>0</td>\n",
       "      <td>2128</td>\n",
       "      <td>2017 - 2019</td>\n",
       "      <td>NaN</td>\n",
       "    </tr>\n",
       "    <tr>\n",
       "      <th>2</th>\n",
       "      <td>10003939</td>\n",
       "      <td>M</td>\n",
       "      <td>0</td>\n",
       "      <td>2184</td>\n",
       "      <td>2008 - 2010</td>\n",
       "      <td>NaN</td>\n",
       "    </tr>\n",
       "  </tbody>\n",
       "</table>\n",
       "</div>"
      ],
      "text/plain": [
       "   subject_id gender  anchor_age  anchor_year anchor_year_group  dod\n",
       "0    10000048      F          23         2126       2008 - 2010  NaN\n",
       "1    10002723      F           0         2128       2017 - 2019  NaN\n",
       "2    10003939      M           0         2184       2008 - 2010  NaN"
      ]
     },
     "execution_count": 4,
     "metadata": {},
     "output_type": "execute_result"
    }
   ],
   "source": [
    "patients.head(3)"
   ]
  },
  {
   "cell_type": "markdown",
   "metadata": {},
   "source": [
    "**describe**"
   ]
  },
  {
   "cell_type": "code",
   "execution_count": 17,
   "metadata": {},
   "outputs": [
    {
     "data": {
      "text/html": [
       "<div>\n",
       "<style scoped>\n",
       "    .dataframe tbody tr th:only-of-type {\n",
       "        vertical-align: middle;\n",
       "    }\n",
       "\n",
       "    .dataframe tbody tr th {\n",
       "        vertical-align: top;\n",
       "    }\n",
       "\n",
       "    .dataframe thead th {\n",
       "        text-align: right;\n",
       "    }\n",
       "</style>\n",
       "<table border=\"1\" class=\"dataframe\">\n",
       "  <thead>\n",
       "    <tr style=\"text-align: right;\">\n",
       "      <th></th>\n",
       "      <th>subject_id</th>\n",
       "      <th>hadm_id</th>\n",
       "      <th>admittime</th>\n",
       "      <th>dischtime</th>\n",
       "      <th>deathtime</th>\n",
       "      <th>admission_type</th>\n",
       "      <th>admission_location</th>\n",
       "      <th>discharge_location</th>\n",
       "      <th>insurance</th>\n",
       "      <th>language</th>\n",
       "      <th>marital_status</th>\n",
       "      <th>ethnicity</th>\n",
       "      <th>edregtime</th>\n",
       "      <th>edouttime</th>\n",
       "      <th>hospital_expire_flag</th>\n",
       "    </tr>\n",
       "  </thead>\n",
       "  <tbody>\n",
       "    <tr>\n",
       "      <th>0</th>\n",
       "      <td>14679932</td>\n",
       "      <td>21038362</td>\n",
       "      <td>2139-09-26 14:16:00</td>\n",
       "      <td>2139-09-28 11:30:00</td>\n",
       "      <td>NaN</td>\n",
       "      <td>ELECTIVE</td>\n",
       "      <td>NaN</td>\n",
       "      <td>HOME</td>\n",
       "      <td>Other</td>\n",
       "      <td>ENGLISH</td>\n",
       "      <td>SINGLE</td>\n",
       "      <td>UNKNOWN</td>\n",
       "      <td>NaN</td>\n",
       "      <td>NaN</td>\n",
       "      <td>0</td>\n",
       "    </tr>\n",
       "    <tr>\n",
       "      <th>1</th>\n",
       "      <td>15585972</td>\n",
       "      <td>24941086</td>\n",
       "      <td>2123-10-07 23:56:00</td>\n",
       "      <td>2123-10-12 11:22:00</td>\n",
       "      <td>NaN</td>\n",
       "      <td>ELECTIVE</td>\n",
       "      <td>NaN</td>\n",
       "      <td>HOME</td>\n",
       "      <td>Other</td>\n",
       "      <td>ENGLISH</td>\n",
       "      <td>NaN</td>\n",
       "      <td>WHITE</td>\n",
       "      <td>NaN</td>\n",
       "      <td>NaN</td>\n",
       "      <td>0</td>\n",
       "    </tr>\n",
       "    <tr>\n",
       "      <th>2</th>\n",
       "      <td>11989120</td>\n",
       "      <td>21965160</td>\n",
       "      <td>2147-01-14 09:00:00</td>\n",
       "      <td>2147-01-17 14:25:00</td>\n",
       "      <td>NaN</td>\n",
       "      <td>ELECTIVE</td>\n",
       "      <td>NaN</td>\n",
       "      <td>HOME</td>\n",
       "      <td>Other</td>\n",
       "      <td>ENGLISH</td>\n",
       "      <td>NaN</td>\n",
       "      <td>UNKNOWN</td>\n",
       "      <td>NaN</td>\n",
       "      <td>NaN</td>\n",
       "      <td>0</td>\n",
       "    </tr>\n",
       "  </tbody>\n",
       "</table>\n",
       "</div>"
      ],
      "text/plain": [
       "   subject_id   hadm_id            admittime            dischtime deathtime  \\\n",
       "0    14679932  21038362  2139-09-26 14:16:00  2139-09-28 11:30:00       NaN   \n",
       "1    15585972  24941086  2123-10-07 23:56:00  2123-10-12 11:22:00       NaN   \n",
       "2    11989120  21965160  2147-01-14 09:00:00  2147-01-17 14:25:00       NaN   \n",
       "\n",
       "  admission_type admission_location discharge_location insurance language  \\\n",
       "0       ELECTIVE                NaN               HOME     Other  ENGLISH   \n",
       "1       ELECTIVE                NaN               HOME     Other  ENGLISH   \n",
       "2       ELECTIVE                NaN               HOME     Other  ENGLISH   \n",
       "\n",
       "  marital_status ethnicity edregtime edouttime  hospital_expire_flag  \n",
       "0         SINGLE   UNKNOWN       NaN       NaN                     0  \n",
       "1            NaN     WHITE       NaN       NaN                     0  \n",
       "2            NaN   UNKNOWN       NaN       NaN                     0  "
      ]
     },
     "execution_count": 17,
     "metadata": {},
     "output_type": "execute_result"
    }
   ],
   "source": [
    "admissions.head(3)"
   ]
  },
  {
   "cell_type": "markdown",
   "metadata": {
    "jp-MarkdownHeadingCollapsed": true,
    "tags": []
   },
   "source": [
    "## `hosp` module"
   ]
  },
  {
   "cell_type": "markdown",
   "metadata": {},
   "source": [
    "Since we foucsed on ICU patients in this analysis, most of the tables in this module is not of our interest. \n",
    "\n",
    "The only information we need is the billed diagnosis of patients in order to select our cohort.\n",
    "\n",
    "`diagnoses_icd.csv` contains the icd code for each subject and the corresponding icd version. With the code and version we can acquire the name of the diagnoses from the `d_icd_diagnoses.csv` file. "
   ]
  },
  {
   "cell_type": "code",
   "execution_count": 8,
   "metadata": {},
   "outputs": [
    {
     "data": {
      "text/html": [
       "<div>\n",
       "<style scoped>\n",
       "    .dataframe tbody tr th:only-of-type {\n",
       "        vertical-align: middle;\n",
       "    }\n",
       "\n",
       "    .dataframe tbody tr th {\n",
       "        vertical-align: top;\n",
       "    }\n",
       "\n",
       "    .dataframe thead th {\n",
       "        text-align: right;\n",
       "    }\n",
       "</style>\n",
       "<table border=\"1\" class=\"dataframe\">\n",
       "  <thead>\n",
       "    <tr style=\"text-align: right;\">\n",
       "      <th></th>\n",
       "      <th>subject_id</th>\n",
       "      <th>hadm_id</th>\n",
       "      <th>seq_num</th>\n",
       "      <th>icd_code</th>\n",
       "      <th>icd_version</th>\n",
       "    </tr>\n",
       "  </thead>\n",
       "  <tbody>\n",
       "    <tr>\n",
       "      <th>0</th>\n",
       "      <td>15734973</td>\n",
       "      <td>20475282</td>\n",
       "      <td>3</td>\n",
       "      <td>2825</td>\n",
       "      <td>9</td>\n",
       "    </tr>\n",
       "    <tr>\n",
       "      <th>1</th>\n",
       "      <td>15734973</td>\n",
       "      <td>20475282</td>\n",
       "      <td>2</td>\n",
       "      <td>V0251</td>\n",
       "      <td>9</td>\n",
       "    </tr>\n",
       "    <tr>\n",
       "      <th>2</th>\n",
       "      <td>15734973</td>\n",
       "      <td>20475282</td>\n",
       "      <td>5</td>\n",
       "      <td>V270</td>\n",
       "      <td>9</td>\n",
       "    </tr>\n",
       "  </tbody>\n",
       "</table>\n",
       "</div>"
      ],
      "text/plain": [
       "   subject_id   hadm_id  seq_num icd_code  icd_version\n",
       "0    15734973  20475282        3     2825            9\n",
       "1    15734973  20475282        2    V0251            9\n",
       "2    15734973  20475282        5     V270            9"
      ]
     },
     "execution_count": 8,
     "metadata": {},
     "output_type": "execute_result"
    }
   ],
   "source": [
    "subj_diagnose.head(3)"
   ]
  },
  {
   "cell_type": "code",
   "execution_count": 10,
   "metadata": {},
   "outputs": [
    {
     "data": {
      "text/html": [
       "<div>\n",
       "<style scoped>\n",
       "    .dataframe tbody tr th:only-of-type {\n",
       "        vertical-align: middle;\n",
       "    }\n",
       "\n",
       "    .dataframe tbody tr th {\n",
       "        vertical-align: top;\n",
       "    }\n",
       "\n",
       "    .dataframe thead th {\n",
       "        text-align: right;\n",
       "    }\n",
       "</style>\n",
       "<table border=\"1\" class=\"dataframe\">\n",
       "  <thead>\n",
       "    <tr style=\"text-align: right;\">\n",
       "      <th></th>\n",
       "      <th>icd_code</th>\n",
       "      <th>icd_version</th>\n",
       "      <th>long_title</th>\n",
       "    </tr>\n",
       "  </thead>\n",
       "  <tbody>\n",
       "    <tr>\n",
       "      <th>0</th>\n",
       "      <td>0010</td>\n",
       "      <td>9</td>\n",
       "      <td>Cholera due to vibrio cholerae</td>\n",
       "    </tr>\n",
       "    <tr>\n",
       "      <th>1</th>\n",
       "      <td>0011</td>\n",
       "      <td>9</td>\n",
       "      <td>Cholera due to vibrio cholerae el tor</td>\n",
       "    </tr>\n",
       "    <tr>\n",
       "      <th>2</th>\n",
       "      <td>0019</td>\n",
       "      <td>9</td>\n",
       "      <td>Cholera, unspecified</td>\n",
       "    </tr>\n",
       "  </tbody>\n",
       "</table>\n",
       "</div>"
      ],
      "text/plain": [
       "  icd_code  icd_version                             long_title\n",
       "0     0010            9         Cholera due to vibrio cholerae\n",
       "1     0011            9  Cholera due to vibrio cholerae el tor\n",
       "2     0019            9                   Cholera, unspecified"
      ]
     },
     "execution_count": 10,
     "metadata": {},
     "output_type": "execute_result"
    }
   ],
   "source": [
    "diagnose.head(3)"
   ]
  },
  {
   "cell_type": "markdown",
   "metadata": {
    "jp-MarkdownHeadingCollapsed": true,
    "tags": []
   },
   "source": [
    "## `ed` module"
   ]
  },
  {
   "cell_type": "markdown",
   "metadata": {},
   "source": [
    "We only use `vitalsign` table in this module since vitalsigns like heart rate, respotary rate are directly related to death. And the first set of vital signs after patients admitted to emergency room is most important since they haven't received any medication. "
   ]
  },
  {
   "cell_type": "code",
   "execution_count": 6,
   "metadata": {},
   "outputs": [
    {
     "data": {
      "text/html": [
       "<div>\n",
       "<style scoped>\n",
       "    .dataframe tbody tr th:only-of-type {\n",
       "        vertical-align: middle;\n",
       "    }\n",
       "\n",
       "    .dataframe tbody tr th {\n",
       "        vertical-align: top;\n",
       "    }\n",
       "\n",
       "    .dataframe thead th {\n",
       "        text-align: right;\n",
       "    }\n",
       "</style>\n",
       "<table border=\"1\" class=\"dataframe\">\n",
       "  <thead>\n",
       "    <tr style=\"text-align: right;\">\n",
       "      <th></th>\n",
       "      <th>subject_id</th>\n",
       "      <th>stay_id</th>\n",
       "      <th>charttime</th>\n",
       "      <th>temperature</th>\n",
       "      <th>heartrate</th>\n",
       "      <th>resprate</th>\n",
       "      <th>o2sat</th>\n",
       "      <th>sbp</th>\n",
       "      <th>dbp</th>\n",
       "      <th>rhythm</th>\n",
       "      <th>pain</th>\n",
       "    </tr>\n",
       "  </thead>\n",
       "  <tbody>\n",
       "    <tr>\n",
       "      <th>0</th>\n",
       "      <td>16113983</td>\n",
       "      <td>37539106</td>\n",
       "      <td>2116-06-10 00:32:00</td>\n",
       "      <td>98.2</td>\n",
       "      <td>82.0</td>\n",
       "      <td>15.0</td>\n",
       "      <td>NaN</td>\n",
       "      <td>106.0</td>\n",
       "      <td>72.0</td>\n",
       "      <td>NaN</td>\n",
       "      <td>NaN</td>\n",
       "    </tr>\n",
       "    <tr>\n",
       "      <th>1</th>\n",
       "      <td>15128994</td>\n",
       "      <td>30058281</td>\n",
       "      <td>2167-08-29 02:25:00</td>\n",
       "      <td>98.3</td>\n",
       "      <td>79.0</td>\n",
       "      <td>20.0</td>\n",
       "      <td>97.0</td>\n",
       "      <td>126.0</td>\n",
       "      <td>73.0</td>\n",
       "      <td>NaN</td>\n",
       "      <td>0</td>\n",
       "    </tr>\n",
       "    <tr>\n",
       "      <th>2</th>\n",
       "      <td>15128994</td>\n",
       "      <td>30058281</td>\n",
       "      <td>2167-08-29 04:51:00</td>\n",
       "      <td>97.6</td>\n",
       "      <td>79.0</td>\n",
       "      <td>20.0</td>\n",
       "      <td>98.0</td>\n",
       "      <td>126.0</td>\n",
       "      <td>73.0</td>\n",
       "      <td>NaN</td>\n",
       "      <td>0</td>\n",
       "    </tr>\n",
       "  </tbody>\n",
       "</table>\n",
       "</div>"
      ],
      "text/plain": [
       "   subject_id   stay_id            charttime  temperature  heartrate  \\\n",
       "0    16113983  37539106  2116-06-10 00:32:00         98.2       82.0   \n",
       "1    15128994  30058281  2167-08-29 02:25:00         98.3       79.0   \n",
       "2    15128994  30058281  2167-08-29 04:51:00         97.6       79.0   \n",
       "\n",
       "   resprate  o2sat    sbp   dbp rhythm pain  \n",
       "0      15.0    NaN  106.0  72.0    NaN  NaN  \n",
       "1      20.0   97.0  126.0  73.0    NaN    0  \n",
       "2      20.0   98.0  126.0  73.0    NaN    0  "
      ]
     },
     "execution_count": 6,
     "metadata": {},
     "output_type": "execute_result"
    }
   ],
   "source": [
    "vital_raw.head(3)"
   ]
  },
  {
   "cell_type": "markdown",
   "metadata": {
    "jp-MarkdownHeadingCollapsed": true,
    "tags": []
   },
   "source": [
    "## `icu` module"
   ]
  },
  {
   "cell_type": "markdown",
   "metadata": {},
   "source": [
    "`icu` module contains the main data we are going to analyze. \n",
    "\n",
    "`icustays.csv` tracks information for ICU stays including adminission and discharge times. This table will be used to identify the patients who were admitted to the icu since not all patients admitted to ICU. "
   ]
  },
  {
   "cell_type": "code",
   "execution_count": 11,
   "metadata": {},
   "outputs": [
    {
     "data": {
      "text/html": [
       "<div>\n",
       "<style scoped>\n",
       "    .dataframe tbody tr th:only-of-type {\n",
       "        vertical-align: middle;\n",
       "    }\n",
       "\n",
       "    .dataframe tbody tr th {\n",
       "        vertical-align: top;\n",
       "    }\n",
       "\n",
       "    .dataframe thead th {\n",
       "        text-align: right;\n",
       "    }\n",
       "</style>\n",
       "<table border=\"1\" class=\"dataframe\">\n",
       "  <thead>\n",
       "    <tr style=\"text-align: right;\">\n",
       "      <th></th>\n",
       "      <th>subject_id</th>\n",
       "      <th>hadm_id</th>\n",
       "      <th>stay_id</th>\n",
       "      <th>first_careunit</th>\n",
       "      <th>last_careunit</th>\n",
       "      <th>intime</th>\n",
       "      <th>outtime</th>\n",
       "      <th>los</th>\n",
       "    </tr>\n",
       "  </thead>\n",
       "  <tbody>\n",
       "    <tr>\n",
       "      <th>0</th>\n",
       "      <td>17867402</td>\n",
       "      <td>24528534</td>\n",
       "      <td>31793211</td>\n",
       "      <td>Trauma SICU (TSICU)</td>\n",
       "      <td>Trauma SICU (TSICU)</td>\n",
       "      <td>2154-03-03 04:11:00</td>\n",
       "      <td>2154-03-04 18:16:56</td>\n",
       "      <td>1.587454</td>\n",
       "    </tr>\n",
       "    <tr>\n",
       "      <th>1</th>\n",
       "      <td>14435996</td>\n",
       "      <td>28960964</td>\n",
       "      <td>31983544</td>\n",
       "      <td>Trauma SICU (TSICU)</td>\n",
       "      <td>Trauma SICU (TSICU)</td>\n",
       "      <td>2150-06-19 17:57:00</td>\n",
       "      <td>2150-06-22 18:33:54</td>\n",
       "      <td>3.025625</td>\n",
       "    </tr>\n",
       "    <tr>\n",
       "      <th>2</th>\n",
       "      <td>17609946</td>\n",
       "      <td>27385897</td>\n",
       "      <td>33183475</td>\n",
       "      <td>Trauma SICU (TSICU)</td>\n",
       "      <td>Trauma SICU (TSICU)</td>\n",
       "      <td>2138-02-05 18:54:00</td>\n",
       "      <td>2138-02-15 12:42:05</td>\n",
       "      <td>9.741725</td>\n",
       "    </tr>\n",
       "  </tbody>\n",
       "</table>\n",
       "</div>"
      ],
      "text/plain": [
       "   subject_id   hadm_id   stay_id       first_careunit        last_careunit  \\\n",
       "0    17867402  24528534  31793211  Trauma SICU (TSICU)  Trauma SICU (TSICU)   \n",
       "1    14435996  28960964  31983544  Trauma SICU (TSICU)  Trauma SICU (TSICU)   \n",
       "2    17609946  27385897  33183475  Trauma SICU (TSICU)  Trauma SICU (TSICU)   \n",
       "\n",
       "                intime              outtime       los  \n",
       "0  2154-03-03 04:11:00  2154-03-04 18:16:56  1.587454  \n",
       "1  2150-06-19 17:57:00  2150-06-22 18:33:54  3.025625  \n",
       "2  2138-02-05 18:54:00  2138-02-15 12:42:05  9.741725  "
      ]
     },
     "execution_count": 11,
     "metadata": {},
     "output_type": "execute_result"
    }
   ],
   "source": [
    "icu_stays.head(3)"
   ]
  },
  {
   "cell_type": "markdown",
   "metadata": {},
   "source": [
    "`chart_event_filtered.csv` contains the majority of the data. During their ICU stay, the primary repository of a patient’s information is their electronic chart. The electronic chart displays patients’ routine vital signs and any additional information relevant to their care: ventilator settings, laboratory values, code status, mental status, and so on. Each event is represented by an `item_id` in this table and the real name of the event can be found in the `d_items.csv` file\n",
    "\n",
    "`chart_event` table is fairly large, so we uploaded a filtered version. The code used for filtering were shown in appendix. "
   ]
  },
  {
   "cell_type": "code",
   "execution_count": 13,
   "metadata": {},
   "outputs": [
    {
     "data": {
      "text/html": [
       "<div>\n",
       "<style scoped>\n",
       "    .dataframe tbody tr th:only-of-type {\n",
       "        vertical-align: middle;\n",
       "    }\n",
       "\n",
       "    .dataframe tbody tr th {\n",
       "        vertical-align: top;\n",
       "    }\n",
       "\n",
       "    .dataframe thead th {\n",
       "        text-align: right;\n",
       "    }\n",
       "</style>\n",
       "<table border=\"1\" class=\"dataframe\">\n",
       "  <thead>\n",
       "    <tr style=\"text-align: right;\">\n",
       "      <th></th>\n",
       "      <th>Unnamed: 0</th>\n",
       "      <th>subject_id</th>\n",
       "      <th>hadm_id</th>\n",
       "      <th>stay_id</th>\n",
       "      <th>charttime</th>\n",
       "      <th>storetime</th>\n",
       "      <th>itemid</th>\n",
       "      <th>value</th>\n",
       "      <th>valuenum</th>\n",
       "      <th>valueuom</th>\n",
       "      <th>warning</th>\n",
       "    </tr>\n",
       "  </thead>\n",
       "  <tbody>\n",
       "    <tr>\n",
       "      <th>0</th>\n",
       "      <td>24</td>\n",
       "      <td>10007677</td>\n",
       "      <td>27180483</td>\n",
       "      <td>34992648</td>\n",
       "      <td>2120-11-21 12:00:00</td>\n",
       "      <td>2120-11-21 13:48:00</td>\n",
       "      <td>223900</td>\n",
       "      <td>Oriented</td>\n",
       "      <td>5.0</td>\n",
       "      <td>NaN</td>\n",
       "      <td>0</td>\n",
       "    </tr>\n",
       "    <tr>\n",
       "      <th>1</th>\n",
       "      <td>78</td>\n",
       "      <td>10007677</td>\n",
       "      <td>27180483</td>\n",
       "      <td>34992648</td>\n",
       "      <td>2120-11-17 20:00:00</td>\n",
       "      <td>2120-11-17 20:52:00</td>\n",
       "      <td>223900</td>\n",
       "      <td>Oriented</td>\n",
       "      <td>5.0</td>\n",
       "      <td>NaN</td>\n",
       "      <td>0</td>\n",
       "    </tr>\n",
       "    <tr>\n",
       "      <th>2</th>\n",
       "      <td>117</td>\n",
       "      <td>10007677</td>\n",
       "      <td>27180483</td>\n",
       "      <td>34992648</td>\n",
       "      <td>2120-11-21 18:48:00</td>\n",
       "      <td>2120-11-21 19:40:00</td>\n",
       "      <td>220645</td>\n",
       "      <td>130</td>\n",
       "      <td>130.0</td>\n",
       "      <td>mEq/L</td>\n",
       "      <td>1</td>\n",
       "    </tr>\n",
       "  </tbody>\n",
       "</table>\n",
       "</div>"
      ],
      "text/plain": [
       "   Unnamed: 0  subject_id   hadm_id   stay_id            charttime  \\\n",
       "0          24    10007677  27180483  34992648  2120-11-21 12:00:00   \n",
       "1          78    10007677  27180483  34992648  2120-11-17 20:00:00   \n",
       "2         117    10007677  27180483  34992648  2120-11-21 18:48:00   \n",
       "\n",
       "             storetime  itemid     value  valuenum valueuom  warning  \n",
       "0  2120-11-21 13:48:00  223900  Oriented       5.0      NaN        0  \n",
       "1  2120-11-17 20:52:00  223900  Oriented       5.0      NaN        0  \n",
       "2  2120-11-21 19:40:00  220645       130     130.0    mEq/L        1  "
      ]
     },
     "execution_count": 13,
     "metadata": {},
     "output_type": "execute_result"
    }
   ],
   "source": [
    "chart_event.head(3)"
   ]
  },
  {
   "cell_type": "code",
   "execution_count": 14,
   "metadata": {},
   "outputs": [
    {
     "data": {
      "text/html": [
       "<div>\n",
       "<style scoped>\n",
       "    .dataframe tbody tr th:only-of-type {\n",
       "        vertical-align: middle;\n",
       "    }\n",
       "\n",
       "    .dataframe tbody tr th {\n",
       "        vertical-align: top;\n",
       "    }\n",
       "\n",
       "    .dataframe thead th {\n",
       "        text-align: right;\n",
       "    }\n",
       "</style>\n",
       "<table border=\"1\" class=\"dataframe\">\n",
       "  <thead>\n",
       "    <tr style=\"text-align: right;\">\n",
       "      <th></th>\n",
       "      <th>label</th>\n",
       "      <th>abbreviation</th>\n",
       "      <th>linksto</th>\n",
       "      <th>category</th>\n",
       "      <th>unitname</th>\n",
       "      <th>param_type</th>\n",
       "      <th>lownormalvalue</th>\n",
       "      <th>highnormalvalue</th>\n",
       "    </tr>\n",
       "    <tr>\n",
       "      <th>itemid</th>\n",
       "      <th></th>\n",
       "      <th></th>\n",
       "      <th></th>\n",
       "      <th></th>\n",
       "      <th></th>\n",
       "      <th></th>\n",
       "      <th></th>\n",
       "      <th></th>\n",
       "    </tr>\n",
       "  </thead>\n",
       "  <tbody>\n",
       "    <tr>\n",
       "      <th>220003</th>\n",
       "      <td>ICU Admission date</td>\n",
       "      <td>ICU Admission date</td>\n",
       "      <td>datetimeevents</td>\n",
       "      <td>ADT</td>\n",
       "      <td>NaN</td>\n",
       "      <td>Date and time</td>\n",
       "      <td>NaN</td>\n",
       "      <td>NaN</td>\n",
       "    </tr>\n",
       "    <tr>\n",
       "      <th>220045</th>\n",
       "      <td>Heart Rate</td>\n",
       "      <td>HR</td>\n",
       "      <td>chartevents</td>\n",
       "      <td>Routine Vital Signs</td>\n",
       "      <td>bpm</td>\n",
       "      <td>Numeric</td>\n",
       "      <td>NaN</td>\n",
       "      <td>NaN</td>\n",
       "    </tr>\n",
       "    <tr>\n",
       "      <th>220046</th>\n",
       "      <td>Heart rate Alarm - High</td>\n",
       "      <td>HR Alarm - High</td>\n",
       "      <td>chartevents</td>\n",
       "      <td>Alarms</td>\n",
       "      <td>bpm</td>\n",
       "      <td>Numeric</td>\n",
       "      <td>NaN</td>\n",
       "      <td>NaN</td>\n",
       "    </tr>\n",
       "  </tbody>\n",
       "</table>\n",
       "</div>"
      ],
      "text/plain": [
       "                          label        abbreviation         linksto  \\\n",
       "itemid                                                                \n",
       "220003       ICU Admission date  ICU Admission date  datetimeevents   \n",
       "220045               Heart Rate                  HR     chartevents   \n",
       "220046  Heart rate Alarm - High     HR Alarm - High     chartevents   \n",
       "\n",
       "                   category unitname     param_type  lownormalvalue  \\\n",
       "itemid                                                                \n",
       "220003                  ADT      NaN  Date and time             NaN   \n",
       "220045  Routine Vital Signs      bpm        Numeric             NaN   \n",
       "220046               Alarms      bpm        Numeric             NaN   \n",
       "\n",
       "        highnormalvalue  \n",
       "itemid                   \n",
       "220003              NaN  \n",
       "220045              NaN  \n",
       "220046              NaN  "
      ]
     },
     "execution_count": 14,
     "metadata": {},
     "output_type": "execute_result"
    }
   ],
   "source": [
    "item_names.head(3)"
   ]
  },
  {
   "cell_type": "markdown",
   "metadata": {},
   "source": [
    "# Select the Cohort \n",
    "Here we select the patients dignosed with ICH from the whole hospital addmission. The corresponding ICD codes are 'I61*' (ICD-10) and '431*' (ICD-9). \n",
    "\n",
    "\n",
    "Then we filter the patients who were addmitteed to the intensive care unit. "
   ]
  },
  {
   "cell_type": "code",
   "execution_count": null,
   "metadata": {},
   "outputs": [],
   "source": [
    "icu_ids = icu_stays['subject_id'].unique()"
   ]
  },
  {
   "cell_type": "code",
   "execution_count": null,
   "metadata": {
    "executionInfo": {
     "elapsed": 2,
     "status": "ok",
     "timestamp": 1651068383371,
     "user": {
      "displayName": "Jianzhang Ni",
      "userId": "18109982546966884557"
     },
     "user_tz": -60
    },
    "id": "25b8pPOJuirq"
   },
   "outputs": [],
   "source": [
    "def get_icu_cohort(icd10, icd9):\n",
    "    \"\"\"\n",
    "    Input parameters are the icd code for a certain disease. For higher reliability, they should be regular expression. \n",
    "    \"\"\"\n",
    "    # filter all diagnosed subjects\n",
    "    df1=patients.set_index('subject_id') \n",
    "    df_icd10=subj_diagnose[subj_diagnose['icd_code'].str.contains(str(icd10))]\n",
    "    df_icd9 = subj_diagnose[subj_diagnose['icd_code'].str.contains(str(icd9))]\n",
    "    df_icdall=pd.concat([df_icd9,df_icd10]).drop_duplicates('subject_id', keep='first')\n",
    "    # filter the patients admitted to icu\n",
    "    df_icu = df_icdall[df_icdall['subject_id'].isin(icu_ids)].set_index('subject_id')\n",
    "    data = df_icu.join(df1,how='left')\n",
    "    # add the target, i.e., mortality flag to the table\n",
    "    data['dod']=data['dod'].replace(np.nan, 0, regex=True)\n",
    "    data['dod']=data['dod'].replace('-', 1, regex=True)\n",
    "\n",
    "    return data\n",
    "\n",
    "def mortality_rate(df):\n",
    "    \"\"\"Calculate the mortality rate for selected cohort. This p\n",
    "    return np.count_nonzero(df['dod']==1)/len(df['dod'])"
   ]
  },
  {
   "cell_type": "code",
   "execution_count": null,
   "metadata": {
    "colab": {
     "base_uri": "https://localhost:8080/",
     "height": 555
    },
    "executionInfo": {
     "elapsed": 2032,
     "status": "ok",
     "timestamp": 1651068638381,
     "user": {
      "displayName": "Jianzhang Ni",
      "userId": "18109982546966884557"
     },
     "user_tz": -60
    },
    "id": "JL5BdlqNuje0",
    "outputId": "4692af00-fe7f-4f1b-cb65-4d9e3ea06b7c"
   },
   "outputs": [],
   "source": [
    "cohort = get_icu_cohort('I61',r'^431')\n",
    "print('cohort size', cohort.shape[0])\n",
    "print('mortality rate', mortality_rate(cohort))\n",
    "cohort"
   ]
  },
  {
   "cell_type": "markdown",
   "metadata": {
    "id": "yhr1JV1_69fV"
   },
   "source": [
    "# Select Features"
   ]
  },
  {
   "cell_type": "code",
   "execution_count": null,
   "metadata": {
    "executionInfo": {
     "elapsed": 497,
     "status": "ok",
     "timestamp": 1651068646740,
     "user": {
      "displayName": "Jianzhang Ni",
      "userId": "18109982546966884557"
     },
     "user_tz": -60
    },
    "id": "cSaOIcVh7MUN"
   },
   "outputs": [],
   "source": [
    "def get_data(cohort_index, data_table, index_colname):\n",
    "    return data_table[data_table[index_colname].isin(cohort_index)]"
   ]
  },
  {
   "cell_type": "code",
   "execution_count": null,
   "metadata": {
    "executionInfo": {
     "elapsed": 2,
     "status": "ok",
     "timestamp": 1651068647277,
     "user": {
      "displayName": "Jianzhang Ni",
      "userId": "18109982546966884557"
     },
     "user_tz": -60
    },
    "id": "LtAJ8a11I0Ht"
   },
   "outputs": [],
   "source": [
    "def fill_na_mean(df, rd=2, inplace=True):\n",
    "    for col in list(df.columns[df.isnull().sum() > 0]):\n",
    "        mean_val = df[col].mean()\n",
    "        if inplace:\n",
    "            try:\n",
    "                df[col].fillna(round(mean_val,rd),inplace=inplace)\n",
    "            except TypeError:\n",
    "                continue\n",
    "        else:\n",
    "            try:\n",
    "                df = df[col].fillna(round(mean_val,rd))\n",
    "            except TypeError:\n",
    "                continue\n",
    "    if not inplace:\n",
    "        return df"
   ]
  },
  {
   "cell_type": "code",
   "execution_count": null,
   "metadata": {
    "executionInfo": {
     "elapsed": 1,
     "status": "ok",
     "timestamp": 1651068648448,
     "user": {
      "displayName": "Jianzhang Ni",
      "userId": "18109982546966884557"
     },
     "user_tz": -60
    },
    "id": "hxfIKijS7vf7"
   },
   "outputs": [],
   "source": [
    "cohort_ind = cohort.index"
   ]
  },
  {
   "cell_type": "markdown",
   "metadata": {
    "id": "dO6jVHS6HS6C"
   },
   "source": [
    "## Load Vital Signs\n",
    "\n",
    "\n"
   ]
  },
  {
   "cell_type": "code",
   "execution_count": null,
   "metadata": {
    "colab": {
     "base_uri": "https://localhost:8080/",
     "height": 444
    },
    "executionInfo": {
     "elapsed": 4059,
     "status": "ok",
     "timestamp": 1651068669284,
     "user": {
      "displayName": "Jianzhang Ni",
      "userId": "18109982546966884557"
     },
     "user_tz": -60
    },
    "id": "8lxsEan669AJ",
    "outputId": "3ec18171-4ac7-4242-8264-7ac32b198703"
   },
   "outputs": [],
   "source": [
    "vital_raw.head()"
   ]
  },
  {
   "cell_type": "code",
   "execution_count": null,
   "metadata": {
    "colab": {
     "base_uri": "https://localhost:8080/",
     "height": 337
    },
    "executionInfo": {
     "elapsed": 4,
     "status": "ok",
     "timestamp": 1651068670630,
     "user": {
      "displayName": "Jianzhang Ni",
      "userId": "18109982546966884557"
     },
     "user_tz": -60
    },
    "id": "za1yaLFdQrrY",
    "outputId": "e3cc5c49-5146-492f-c200-390cb35c0e2b"
   },
   "outputs": [],
   "source": [
    "# Drop rhythm, pain which have a lot of missing data\n",
    "vital_id = get_data(cohort_ind, vital_raw, 'subject_id' ).iloc[:,:-2]\n",
    "vital_id.head()"
   ]
  },
  {
   "cell_type": "code",
   "execution_count": null,
   "metadata": {
    "colab": {
     "base_uri": "https://localhost:8080/",
     "height": 641
    },
    "executionInfo": {
     "elapsed": 467,
     "status": "ok",
     "timestamp": 1651068675953,
     "user": {
      "displayName": "Jianzhang Ni",
      "userId": "18109982546966884557"
     },
     "user_tz": -60
    },
    "id": "Chrq0NZmQ_Ja",
    "outputId": "ab223458-727f-4e89-c912-e0481f1dae62"
   },
   "outputs": [],
   "source": [
    "fill_na_mean(vital_id)\n",
    "vital_id"
   ]
  },
  {
   "cell_type": "code",
   "execution_count": null,
   "metadata": {
    "executionInfo": {
     "elapsed": 365,
     "status": "ok",
     "timestamp": 1651068680492,
     "user": {
      "displayName": "Jianzhang Ni",
      "userId": "18109982546966884557"
     },
     "user_tz": -60
    },
    "id": "llXrPI13Q3MY"
   },
   "outputs": [],
   "source": [
    "vital_id =vital_id.drop_duplicates('subject_id', keep='last').set_index('subject_id')"
   ]
  },
  {
   "cell_type": "code",
   "execution_count": null,
   "metadata": {
    "colab": {
     "base_uri": "https://localhost:8080/",
     "height": 237
    },
    "executionInfo": {
     "elapsed": 556,
     "status": "ok",
     "timestamp": 1651068682779,
     "user": {
      "displayName": "Jianzhang Ni",
      "userId": "18109982546966884557"
     },
     "user_tz": -60
    },
    "id": "GQwjlj-UUb2p",
    "outputId": "cabb62e9-c3fa-4e58-cf96-fb1d9424d630"
   },
   "outputs": [],
   "source": [
    "vital_id.head()"
   ]
  },
  {
   "cell_type": "code",
   "execution_count": null,
   "metadata": {
    "colab": {
     "base_uri": "https://localhost:8080/"
    },
    "executionInfo": {
     "elapsed": 403,
     "status": "ok",
     "timestamp": 1651069981493,
     "user": {
      "displayName": "Jianzhang Ni",
      "userId": "18109982546966884557"
     },
     "user_tz": -60
    },
    "id": "eOjwy6KFW9HB",
    "outputId": "fbfaf050-8831-4f36-d9f3-8f345dcbcc58"
   },
   "outputs": [],
   "source": [
    "final = cohort.join(vital_id)\n",
    "final.shape"
   ]
  },
  {
   "cell_type": "markdown",
   "metadata": {
    "id": "zXltDgUnUpGL"
   },
   "source": [
    "## Load chartted Event"
   ]
  },
  {
   "cell_type": "code",
   "execution_count": null,
   "metadata": {
    "id": "2l7_7TGiZasz"
   },
   "outputs": [],
   "source": [
    "# Selected Features from table event\n",
    "\n",
    "# PH (Venous)\n",
    "# Chloride (serum)\n",
    "# Creatinine (serum)\n",
    "# Magnesium\n",
    "# Sodium (serum)\n",
    "# PH (dipstick)\n",
    "# Sodium Bicarbonate 8.4%\n",
    "# Norepinephrine\n",
    "# Magnesium Sulfate\n",
    "# PH (Arterial)\n",
    "# GCS - Verbal Response\n",
    "# Heparin Sodium\n",
    "# Chloride (whole blood)\n",
    "# CreatinineApacheIIScore\n",
    "# CreatinineApacheIIValue\n",
    "# HematocritApacheIIScore\n",
    "# WbcApacheIIScore\n",
    "# WBCApacheIIValue\n",
    "# Hematocrit_ApacheIV\n",
    "# HR_ApacheIV\n",
    "# WBC_ApacheIV\n",
    "# WBCScore_ApacheIV\n",
    "# Magnesium Sulfate (Bolus)\n",
    "# Chloride (serum) (soft)\n",
    "# Sodium (serum) (soft)\n",
    "# Creatinine (whole blood)\n",
    "# selected_items = [220274,220602,220615,220635,220645,220734,220995,221906,222011,223830,223900,\n",
    "# 225152,226536,226751,226752,226761,226779,226780,227017,227018,227062,227063,227523,228385,228389,229761,]"
   ]
  },
  {
   "cell_type": "code",
   "execution_count": null,
   "metadata": {
    "id": "Q2qLOXZO2k86"
   },
   "outputs": [],
   "source": [
    "# df[df['itemid'].isin(selected_items)].to_csv('chart_event_filtered.csv')"
   ]
  },
  {
   "cell_type": "code",
   "execution_count": null,
   "metadata": {
    "colab": {
     "base_uri": "https://localhost:8080/"
    },
    "executionInfo": {
     "elapsed": 282,
     "status": "ok",
     "timestamp": 1650990799821,
     "user": {
      "displayName": "Jianzhang Ni",
      "userId": "18109982546966884557"
     },
     "user_tz": -60
    },
    "id": "3vHMRHtht7pS",
    "outputId": "1026c938-05cf-45a7-f1d2-6eff7722367f"
   },
   "outputs": [],
   "source": [
    "# len(df['itemid'].unique())"
   ]
  },
  {
   "cell_type": "code",
   "execution_count": null,
   "metadata": {
    "colab": {
     "base_uri": "https://localhost:8080/",
     "height": 461
    },
    "executionInfo": {
     "elapsed": 2178,
     "status": "ok",
     "timestamp": 1651068699998,
     "user": {
      "displayName": "Jianzhang Ni",
      "userId": "18109982546966884557"
     },
     "user_tz": -60
    },
    "id": "dyMrisljU_HJ",
    "outputId": "d9e3fc8a-2627-4a40-b770-8f821bd257eb"
   },
   "outputs": [],
   "source": [
    "charteve_raw.head()"
   ]
  },
  {
   "cell_type": "code",
   "execution_count": null,
   "metadata": {
    "colab": {
     "base_uri": "https://localhost:8080/",
     "height": 492
    },
    "executionInfo": {
     "elapsed": 405,
     "status": "ok",
     "timestamp": 1651069777889,
     "user": {
      "displayName": "Jianzhang Ni",
      "userId": "18109982546966884557"
     },
     "user_tz": -60
    },
    "id": "DGeyiP4VajL3",
    "outputId": "9386757d-3209-4915-91b1-6881057fb038"
   },
   "outputs": [],
   "source": [
    "item_names.head()"
   ]
  },
  {
   "cell_type": "code",
   "execution_count": null,
   "metadata": {
    "executionInfo": {
     "elapsed": 407,
     "status": "ok",
     "timestamp": 1651069826645,
     "user": {
      "displayName": "Jianzhang Ni",
      "userId": "18109982546966884557"
     },
     "user_tz": -60
    },
    "id": "T6nHfl1jZvgA"
   },
   "outputs": [],
   "source": [
    "item_dict = dict()\n",
    "for item_id in charteve_raw['itemid'].unique():\n",
    "    item_dict[item_id] = item_names.loc[item_id, 'abbreviation']"
   ]
  },
  {
   "cell_type": "code",
   "execution_count": null,
   "metadata": {
    "colab": {
     "base_uri": "https://localhost:8080/",
     "height": 366
    },
    "executionInfo": {
     "elapsed": 127368,
     "status": "ok",
     "timestamp": 1651070113749,
     "user": {
      "displayName": "Jianzhang Ni",
      "userId": "18109982546966884557"
     },
     "user_tz": -60
    },
    "id": "rBtDcXATWOXj",
    "outputId": "cd14cb6c-2b4a-43c6-b3ee-8ce2f83dc578"
   },
   "outputs": [],
   "source": [
    "# This command takes a few minutes to run.\n",
    "for i in range(charteve_raw.shape[0]):\n",
    "    entry = charteve_raw.iloc[i,:]\n",
    "    sub_id, itemid = entry[['subject_id', 'itemid']]\n",
    "    item_names = item_dict[itemid]\n",
    "    final.loc[sub_id, item_names] = entry['valuenum']\n",
    "final.head() "
   ]
  },
  {
   "cell_type": "code",
   "execution_count": null,
   "metadata": {
    "colab": {
     "base_uri": "https://localhost:8080/",
     "height": 382
    },
    "executionInfo": {
     "elapsed": 377,
     "status": "ok",
     "timestamp": 1651072573151,
     "user": {
      "displayName": "Jianzhang Ni",
      "userId": "18109982546966884557"
     },
     "user_tz": -60
    },
    "id": "3UxRkAb3hyM2",
    "outputId": "a65fa23c-5beb-4720-b74a-d06f2a13b7b0"
   },
   "outputs": [],
   "source": [
    "test = final.iloc[:,:-5].dropna(how='any',axis=0)\n",
    "test[['dod']] = test[['dod']].astype('int')\n",
    "test.describe()"
   ]
  },
  {
   "cell_type": "code",
   "execution_count": null,
   "metadata": {
    "colab": {
     "base_uri": "https://localhost:8080/",
     "height": 359
    },
    "executionInfo": {
     "elapsed": 395,
     "status": "ok",
     "timestamp": 1651073728500,
     "user": {
      "displayName": "Jianzhang Ni",
      "userId": "18109982546966884557"
     },
     "user_tz": -60
    },
    "id": "oG6zLZ6doO7K",
    "outputId": "1682f5d9-5059-4c51-aae6-cdbc2b07bac0"
   },
   "outputs": [],
   "source": [
    "g = sns.catplot(x='dod',y='Sodium (serum)',data=test, kind=\"box\",\n",
    "                height=4, aspect=1);"
   ]
  },
  {
   "cell_type": "markdown",
   "metadata": {
    "id": "g2qtZfJYki9-"
   },
   "source": [
    "# Description"
   ]
  },
  {
   "cell_type": "markdown",
   "metadata": {
    "id": "9qI5EhAFsFN-"
   },
   "source": [
    "# Modelling"
   ]
  },
  {
   "cell_type": "code",
   "execution_count": null,
   "metadata": {},
   "outputs": [],
   "source": [
    "from DS_MIMIC_knn import shuffle_split_data"
   ]
  },
  {
   "cell_type": "code",
   "execution_count": null,
   "metadata": {
    "colab": {
     "base_uri": "https://localhost:8080/"
    },
    "executionInfo": {
     "elapsed": 333,
     "status": "ok",
     "timestamp": 1651074590694,
     "user": {
      "displayName": "Jianzhang Ni",
      "userId": "18109982546966884557"
     },
     "user_tz": -60
    },
    "id": "BP0JQcUntmfh",
    "outputId": "416401f9-afb2-427b-dcc3-16166401340c"
   },
   "outputs": [],
   "source": [
    "test[test.dod==0].shape[0]/test.shape[0]"
   ]
  },
  {
   "cell_type": "code",
   "execution_count": null,
   "metadata": {
    "colab": {
     "base_uri": "https://localhost:8080/"
    },
    "executionInfo": {
     "elapsed": 1011,
     "status": "ok",
     "timestamp": 1651074488792,
     "user": {
      "displayName": "Jianzhang Ni",
      "userId": "18109982546966884557"
     },
     "user_tz": -60
    },
    "id": "cs4KjUPisE9c",
    "outputId": "e110a34c-df96-45d8-cfd1-909ef0688d09"
   },
   "outputs": [],
   "source": [
    "from sklearn.linear_model import LogisticRegression\n",
    "from sklearn.preprocessing import StandardScaler\n",
    "\n",
    "X = test[['temperature', 'heartrate', 'resprate', 'o2sat', 'sbp', 'dbp',\n",
    "       'Verbal Response', 'Sodium (serum)', 'Chloride (serum)', 'Magnesium',\n",
    "       'Creatinine (serum)']]\n",
    "y = test['dod']\n",
    "\n",
    "X_train_orig, X_test_orig, y_train, y_test = shuffle_split_data(X, y,0.2)\n",
    "std= StandardScaler()\n",
    "X_train=std.fit_transform(X_train_orig)\n",
    "X_test=std.fit_transform(X_test_orig)"
   ]
  },
  {
   "cell_type": "code",
   "execution_count": null,
   "metadata": {},
   "outputs": [],
   "source": [
    "X_train.shape"
   ]
  },
  {
   "cell_type": "markdown",
   "metadata": {},
   "source": [
    "## Logistic Regression"
   ]
  },
  {
   "cell_type": "code",
   "execution_count": null,
   "metadata": {},
   "outputs": [],
   "source": [
    "# check classification scores of logistic regression\n",
    "from sklearn.metrics import accuracy_score, classification_report, precision_score, recall_score \n",
    "from sklearn.metrics import confusion_matrix, precision_recall_curve, roc_curve, auc, log_loss\n",
    "\n",
    "logreg = LogisticRegression(max_iter=1000)\n",
    "logreg.fit(X_train, y_train)\n",
    "y_pred = logreg.predict(X_test)\n",
    "y_pred_proba = logreg.predict_proba(X_test)[:, 1]\n",
    "[fpr, tpr, thr] = roc_curve(y_test, y_pred_proba)\n",
    "print('Train/Test split results:')\n",
    "print(logreg.__class__.__name__+\" accuracy is %2.3f\" % accuracy_score(y_test, y_pred))\n",
    "print(logreg.__class__.__name__+\" log_loss is %2.3f\" % log_loss(y_test, y_pred_proba))\n",
    "print(logreg.__class__.__name__+\" auc is %2.3f\" % auc(fpr, tpr))"
   ]
  },
  {
   "cell_type": "code",
   "execution_count": null,
   "metadata": {},
   "outputs": [],
   "source": [
    "idx = np.min(np.where(tpr > 0.95)) # index of the first threshold for which the sensibility > 0.95\n",
    "\n",
    "plt.figure()\n",
    "plt.plot(fpr, tpr, color='coral', label='ROC curve (area = %0.3f)' % auc(fpr, tpr))\n",
    "plt.plot([0, 1], [0, 1], 'k--')\n",
    "plt.plot([0,fpr[idx]], [tpr[idx],tpr[idx]], 'k--', color='blue')\n",
    "plt.plot([fpr[idx],fpr[idx]], [0,tpr[idx]], 'k--', color='blue')\n",
    "plt.xlim([0.0, 1.0])\n",
    "plt.ylim([0.0, 1.05])\n",
    "plt.xlabel('False Positive Rate (1 - specificity)', fontsize=14)\n",
    "plt.ylabel('True Positive Rate (recall)', fontsize=14)\n",
    "plt.title('Receiver operating characteristic (ROC) curve')\n",
    "plt.legend(loc=\"lower right\")\n",
    "plt.show()\n",
    "\n",
    "print(\"Using a threshold of %.3f \" % thr[idx] + \"guarantees a sensitivity of %.3f \" % tpr[idx] +  \n",
    "      \"and a specificity of %.3f\" % (1-fpr[idx]) + \n",
    "      \", i.e. a false positive rate of %.2f%%.\" % (np.array(fpr[idx])*100))"
   ]
  },
  {
   "cell_type": "markdown",
   "metadata": {},
   "source": [
    "## Random Forest"
   ]
  },
  {
   "cell_type": "code",
   "execution_count": null,
   "metadata": {},
   "outputs": [],
   "source": [
    "# Random Forest\n",
    "from sklearn.ensemble import RandomForestClassifier\n",
    "\n",
    "# Fit the model\n",
    "rf = RandomForestClassifier(n_estimators=10)\n",
    "rf.fit(X_train_orig, y_train)\n",
    "\n",
    "# Use score method to calculate the accuracy over the whole test set\n",
    "acc=rf.score(X_test_orig, y_test)\n",
    "print(acc)\n",
    "rf = RandomForestClassifier(n_estimators=10)\n",
    "rf.fit(X, y)\n",
    "\n",
    "\n",
    "ft_imp = pd.Series(rf.feature_importances_).sort_values(ascending=False)\n",
    "ft_imp.head(10)\n",
    "ft_imp"
   ]
  },
  {
   "cell_type": "code",
   "execution_count": null,
   "metadata": {},
   "outputs": [],
   "source": [
    "import shap  # package used to calculate Shap values\n",
    "\n",
    "# Create object that can calculate shap values\n",
    "explainer = shap.TreeExplainer(rf)\n",
    "\n",
    "# calculate shap values. This is what we will plot.\n",
    "# Calculate shap_values for all of val_X rather than a single row, to have more data for plot.\n",
    "shap_values = explainer.shap_values(X_test_orig)\n",
    "\n",
    "# Make plot. Index of [1] is explained in text below.\n",
    "shap.summary_plot(shap_values[1], X_test_orig)"
   ]
  },
  {
   "cell_type": "markdown",
   "metadata": {},
   "source": [
    "## KNN"
   ]
  },
  {
   "cell_type": "code",
   "execution_count": null,
   "metadata": {},
   "outputs": [],
   "source": [
    "from sklearn.neighbors import KNeighborsClassifier\n",
    "\n",
    "np.random.seed(40)\n",
    "test_scores = []\n",
    "train_scores = []\n",
    "\n",
    "for i in range(1,15):\n",
    "\n",
    "    knn = KNeighborsClassifier(i)\n",
    "    knn.fit(X_train,y_train)\n",
    "    \n",
    "    train_scores.append(knn.score(X_train,y_train))\n",
    "    test_scores.append(knn.score(X_test,y_test))\n"
   ]
  },
  {
   "cell_type": "code",
   "execution_count": null,
   "metadata": {},
   "outputs": [],
   "source": [
    "max_train_score = max(train_scores)\n",
    "train_scores_ind = [i for i, v in enumerate(train_scores) if v == max_train_score]\n",
    "print('Max train score {} % and k = {}'.format(max_train_score*100,list(map(lambda x: x+1, train_scores_ind))))"
   ]
  },
  {
   "cell_type": "code",
   "execution_count": null,
   "metadata": {},
   "outputs": [],
   "source": [
    "## score that comes from testing on the datapoints that were split in the beginning to be used for testing solely\n",
    "max_test_score = max(test_scores)\n",
    "test_scores_ind = [i for i, v in enumerate(test_scores) if v == max_test_score]\n",
    "print('Max test score {} % and k = {}'.format(max_test_score*100,list(map(lambda x: x+1, test_scores_ind))))"
   ]
  },
  {
   "cell_type": "code",
   "execution_count": null,
   "metadata": {},
   "outputs": [],
   "source": [
    "plt.figure(figsize=(12,5))\n",
    "p = sns.lineplot(x=range(1,15),y=train_scores,marker='*',label='Train Score')\n",
    "p = sns.lineplot(x=range(1,15),y=test_scores,marker='o',label='Test Score')"
   ]
  },
  {
   "cell_type": "markdown",
   "metadata": {},
   "source": [
    "## My KNN\n"
   ]
  },
  {
   "cell_type": "code",
   "execution_count": null,
   "metadata": {},
   "outputs": [],
   "source": [
    "def My_knncomper_difftest( X_train, X_test, y_train, y_test,kmax):\n",
    "    rightnumber = 0           \n",
    "    print('enter phase 2')\n",
    "    Train_acc=[]\n",
    "    Test_acc=[]\n",
    "    print(\" maximum K value is \"+str(kmax))           \n",
    "    for k in range(1,kmax):\n",
    "        test_predict_score=0\n",
    "        rightnumber=0\n",
    "        predictlist =MYknn(X_test, X_train, y_train, k)\n",
    "        for m in range(len(X_test)):\n",
    "            if predictlist[m] == y_test[m]:\n",
    "                rightnumber = rightnumber + 1\n",
    "        test_predict_score = (rightnumber / len(y_test))\n",
    "        print(test_predict_score*100)\n",
    "        Test_acc.append(  test_predict_score * 100)\n",
    "        rightnumber=0\n",
    "        Train_predict_score=0\n",
    "        predictlist = MYknn(X_train, X_train, y_train, k)\n",
    "        for m in range(len(X_train)):\n",
    "            if predictlist[m] == y_train[m]:\n",
    "                rightnumber = rightnumber + 1\n",
    "        Train_predict_score = (rightnumber / len(X_train))\n",
    "        Train_acc.append( Train_predict_score * 100)      \n",
    "\n",
    "    plt.plot(Test_acc)\n",
    "    plt.title('Test_acc')\n",
    "    plt.show()\n",
    "    plt.plot(Train_acc)\n",
    "    plt.title('Train_acc')\n",
    "    plt.show()\n",
    "\n",
    "   \n"
   ]
  },
  {
   "cell_type": "code",
   "execution_count": null,
   "metadata": {},
   "outputs": [],
   "source": [
    "def MYknn(test_object, training_object, training_object_target, K):\n",
    "    predictlist = []\n",
    "    for newpoint in test_object:\n",
    "        dataSetSize = training_object.shape[0]\n",
    "        diffMat= np.tile(newpoint, (dataSetSize, 1)) - training_object\n",
    "        sqDistances = (diffMat**2).sum(axis=1)\n",
    "        distances = sqDistances ** 0.5\n",
    "        sortedDistIndicies = distances.argsort()\n",
    "        classCount = {}\n",
    "        for i in range(K):\n",
    "            voteIlabel = training_object_target[sortedDistIndicies[i]]\n",
    "            classCount[voteIlabel] = classCount.get(voteIlabel, 0) + 1  #Get the value of key from the map and return 0 without key\n",
    "            sortedClassCount = sorted(classCount.items(), key=operator.itemgetter(1), reverse=True)\n",
    "        predictlist.append(sortedClassCount[0][0])\n",
    "    return predictlist"
   ]
  },
  {
   "cell_type": "code",
   "execution_count": null,
   "metadata": {},
   "outputs": [],
   "source": [
    "My_knncomper_difftest(X_train, X_test, y_train, y_test, 15)"
   ]
  },
  {
   "cell_type": "code",
   "execution_count": null,
   "metadata": {
    "jp-MarkdownHeadingCollapsed": true,
    "tags": []
   },
   "outputs": [],
   "source": [
    "## from sklearn.model_selection import train_test_split\n",
    "# from DS_MIMIC_knn import *\n",
    "import numpy as np\n",
    "# from sklearn.neighbors import KNeighborsClassifier\n",
    "from sklearn.preprocessing import StandardScaler\n",
    "\n",
    "\n"
   ]
  },
  {
   "cell_type": "markdown",
   "metadata": {
    "id": "CZQfLUhKYK4I",
    "tags": []
   },
   "source": [
    "---------------------\n",
    "# Find dod ID\n"
   ]
  },
  {
   "cell_type": "code",
   "execution_count": null,
   "metadata": {},
   "outputs": [],
   "source": [
    "raise TypeError"
   ]
  },
  {
   "cell_type": "code",
   "execution_count": null,
   "metadata": {
    "colab": {
     "base_uri": "https://localhost:8080/",
     "height": 287
    },
    "executionInfo": {
     "elapsed": 164,
     "status": "error",
     "timestamp": 1650986591153,
     "user": {
      "displayName": "Jianzhang Ni",
      "userId": "18109982546966884557"
     },
     "user_tz": -60
    },
    "id": "Mb6o-NP7d5Oa",
    "outputId": "46e24186-2640-45ed-ba8d-026c7a8a2ea3"
   },
   "outputs": [],
   "source": [
    "# fillnan_test.set_index('subject_id',inplae=True)"
   ]
  },
  {
   "cell_type": "code",
   "execution_count": null,
   "metadata": {
    "colab": {
     "base_uri": "https://localhost:8080/"
    },
    "executionInfo": {
     "elapsed": 162,
     "status": "ok",
     "timestamp": 1650987090215,
     "user": {
      "displayName": "Jianzhang Ni",
      "userId": "18109982546966884557"
     },
     "user_tz": -60
    },
    "id": "o7BmRI1fYJzH",
    "outputId": "3cfb0b6b-567e-434a-ab9d-ee04f1510ab7"
   },
   "outputs": [],
   "source": [
    "# dod_id=cohort[cohort['dod']==1]\n",
    "# test = dod_id.join(fillnan_test,how='left')\n",
    "# np.count_nonzero(test['stay_id']>1)"
   ]
  },
  {
   "cell_type": "code",
   "execution_count": null,
   "metadata": {
    "colab": {
     "base_uri": "https://localhost:8080/",
     "height": 455
    },
    "executionInfo": {
     "elapsed": 180,
     "status": "ok",
     "timestamp": 1650987019343,
     "user": {
      "displayName": "Jianzhang Ni",
      "userId": "18109982546966884557"
     },
     "user_tz": -60
    },
    "id": "hofjsvzjfprN",
    "outputId": "2e4f7978-74ec-4d63-fb73-f2389a46f915"
   },
   "outputs": [],
   "source": [
    "dod_id"
   ]
  },
  {
   "cell_type": "code",
   "execution_count": null,
   "metadata": {
    "colab": {
     "base_uri": "https://localhost:8080/"
    },
    "executionInfo": {
     "elapsed": 157,
     "status": "ok",
     "timestamp": 1650987052792,
     "user": {
      "displayName": "Jianzhang Ni",
      "userId": "18109982546966884557"
     },
     "user_tz": -60
    },
    "id": "2hL6wMqYfyge",
    "outputId": "f7d3bd47-d9aa-48ba-ddeb-a1eb3dc6a543"
   },
   "outputs": [],
   "source": [
    "test['stay_id']"
   ]
  },
  {
   "cell_type": "markdown",
   "metadata": {
    "id": "x9-lwciv93dK"
   },
   "source": [
    "# Load output event"
   ]
  },
  {
   "cell_type": "code",
   "execution_count": null,
   "metadata": {
    "id": "AchUBRU_-DrB"
   },
   "outputs": [],
   "source": [
    "outevents = pd.read_csv('../data/icu/outputevents.csv')\n",
    "itmes = pd.read_csv('../data/icu/d_items.csv')"
   ]
  },
  {
   "cell_type": "code",
   "execution_count": null,
   "metadata": {
    "id": "suuR6hQp_PYz"
   },
   "outputs": [],
   "source": [
    "test_main = cohort.copy()"
   ]
  },
  {
   "cell_type": "code",
   "execution_count": null,
   "metadata": {
    "id": "lcQx5ujxDENm"
   },
   "outputs": [],
   "source": [
    "out = outevents[outevents['subject_id'].isin(test_main.index)]"
   ]
  },
  {
   "cell_type": "code",
   "execution_count": null,
   "metadata": {
    "colab": {
     "base_uri": "https://localhost:8080/",
     "height": 267
    },
    "executionInfo": {
     "elapsed": 143002,
     "status": "ok",
     "timestamp": 1650977419014,
     "user": {
      "displayName": "Jianzhang Ni",
      "userId": "18109982546966884557"
     },
     "user_tz": -60
    },
    "id": "UVsGelj5SJsl",
    "outputId": "bdb94a69-d7c2-4f77-b2aa-2357e3df7e7e"
   },
   "outputs": [],
   "source": [
    "for i in range(out.shape[0]):\n",
    "    entry = out.iloc[i,:]\n",
    "    sub_id, itemid = entry[['subject_id', 'itemid']]\n",
    "    test_main.loc[sub_id, itemid] = entry['value']\n",
    "test_main.head() "
   ]
  },
  {
   "cell_type": "code",
   "execution_count": null,
   "metadata": {
    "id": "i2inc68lEkM1"
   },
   "outputs": [],
   "source": []
  },
  {
   "cell_type": "markdown",
   "metadata": {},
   "source": [
    "# Appendix"
   ]
  },
  {
   "cell_type": "markdown",
   "metadata": {},
   "source": [
    "We select chart event data from Google Bigquery using SQL. This command took about 20 mins to run, and returns milions of rows of data.\n",
    "So won't run it in the notebook, we filtered the data and saved it locally. "
   ]
  },
  {
   "cell_type": "code",
   "execution_count": null,
   "metadata": {},
   "outputs": [],
   "source": [
    "for i in range(5):\n",
    "    sql = f\"\"\"SELECT * \n",
    "    FROM `physionet-data.mimic_icu.chartevents`\n",
    "    WHERE subject_id in {tuple(cohort.index[497*i:497*(i+1)].values.tolist())}\n",
    "    ORDER BY subject_id\"\"\"\n",
    "\n",
    "    df = pd.read_gbq(sql, project_id='focus-dragon-313813', dialect='standard', use_bqstorage_api=True)\n",
    "    df.to_csv(f'df{i}.csv')"
   ]
  }
 ],
 "metadata": {
  "colab": {
   "collapsed_sections": [],
   "name": "I61",
   "provenance": []
  },
  "kernelspec": {
   "display_name": "Python 3 (ipykernel)",
   "language": "python",
   "name": "python3"
  },
  "language_info": {
   "codemirror_mode": {
    "name": "ipython",
    "version": 3
   },
   "file_extension": ".py",
   "mimetype": "text/x-python",
   "name": "python",
   "nbconvert_exporter": "python",
   "pygments_lexer": "ipython3",
   "version": "3.8.12"
  },
  "toc-autonumbering": true,
  "toc-showmarkdowntxt": false,
  "widgets": {
   "application/vnd.jupyter.widget-state+json": {
    "state": {},
    "version_major": 2,
    "version_minor": 0
   }
  }
 },
 "nbformat": 4,
 "nbformat_minor": 4
}
