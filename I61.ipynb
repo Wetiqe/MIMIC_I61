{
 "cells": [
  {
   "cell_type": "markdown",
   "metadata": {
    "id": "-QwbY9TtYITz"
   },
   "source": [
    "# Load the data "
   ]
  },
  {
   "cell_type": "code",
   "execution_count": 1,
   "metadata": {},
   "outputs": [],
   "source": [
    "from DS_MIMIC_knn import *"
   ]
  },
  {
   "cell_type": "code",
   "execution_count": 2,
   "metadata": {
    "executionInfo": {
     "elapsed": 457,
     "status": "ok",
     "timestamp": 1651068381691,
     "user": {
      "displayName": "Jianzhang Ni",
      "userId": "18109982546966884557"
     },
     "user_tz": -60
    },
    "id": "cfEgJ2-ORlFg"
   },
   "outputs": [],
   "source": [
    "import pandas as pd\n",
    "import numpy as np\n",
    "from matplotlib import pyplot as plt\n",
    "import dask as dd\n",
    "import seaborn as sns"
   ]
  },
  {
   "cell_type": "code",
   "execution_count": 3,
   "metadata": {
    "executionInfo": {
     "elapsed": 10021,
     "status": "ok",
     "timestamp": 1651068633081,
     "user": {
      "displayName": "Jianzhang Ni",
      "userId": "18109982546966884557"
     },
     "user_tz": -60
    },
    "id": "KzjeaKWkRuja"
   },
   "outputs": [],
   "source": [
    "admissions = pd.read_csv('../data/core/admissions.csv')\n",
    "patients = pd.read_csv('../data/core/patients.csv')\n",
    "diagnose = pd.read_csv('../data/hosp/d_icd_diagnoses.csv')\n",
    "subj_diagnose = pd.read_csv('../data/hosp/diagnoses_icd.csv')\n",
    "icu_stays = pd.read_csv('../data/icu/icustays.csv')"
   ]
  },
  {
   "cell_type": "markdown",
   "metadata": {},
   "source": [
    "# Select the Cohort \n",
    "Here we select the patients dignosed with ICH from the whole hospital addmission. The corresponding ICD codes are 'I61*' (ICD-10) and '431*' (ICD-9). \n",
    "\n",
    "\n",
    "Then we filter the patients who were addmitteed to the intensive care unit. "
   ]
  },
  {
   "cell_type": "code",
   "execution_count": 4,
   "metadata": {},
   "outputs": [],
   "source": [
    "icu_ids = icu_stays['subject_id'].unique()"
   ]
  },
  {
   "cell_type": "code",
   "execution_count": 5,
   "metadata": {
    "executionInfo": {
     "elapsed": 2,
     "status": "ok",
     "timestamp": 1651068383371,
     "user": {
      "displayName": "Jianzhang Ni",
      "userId": "18109982546966884557"
     },
     "user_tz": -60
    },
    "id": "25b8pPOJuirq"
   },
   "outputs": [],
   "source": [
    "def get_icu_cohort(icd10,icd9):\n",
    "    df1=patients.set_index('subject_id')\n",
    "    df_icd10=subj_diagnose[subj_diagnose['icd_code'].str.contains(str(icd10))]\n",
    "    df_icd9 = subj_diagnose[subj_diagnose['icd_code'].str.contains(str(icd9))]\n",
    "    df_icdall=pd.concat([df_icd9,df_icd10]).drop_duplicates('subject_id', keep='first')\n",
    "    df_icu = df_icdall[df_icdall['subject_id'].isin(icu_ids)].set_index('subject_id')\n",
    "    data = df_icu.join(df1,how='left')\n",
    "    data['dod']=data['dod'].replace(np.nan, 0, regex=True)\n",
    "    data['dod']=data['dod'].replace('-', 1, regex=True)\n",
    "\n",
    "    return data\n",
    "\n",
    "def mortality_rate(df):\n",
    "    return np.count_nonzero(df['dod']==1)/len(df['dod'])"
   ]
  },
  {
   "cell_type": "code",
   "execution_count": 6,
   "metadata": {
    "colab": {
     "base_uri": "https://localhost:8080/",
     "height": 555
    },
    "executionInfo": {
     "elapsed": 2032,
     "status": "ok",
     "timestamp": 1651068638381,
     "user": {
      "displayName": "Jianzhang Ni",
      "userId": "18109982546966884557"
     },
     "user_tz": -60
    },
    "id": "JL5BdlqNuje0",
    "outputId": "4692af00-fe7f-4f1b-cb65-4d9e3ea06b7c"
   },
   "outputs": [
    {
     "name": "stdout",
     "output_type": "stream",
     "text": [
      "cohort size 2485\n",
      "mortality_rate 0.2784708249496982\n"
     ]
    },
    {
     "data": {
      "text/html": [
       "<div>\n",
       "<style scoped>\n",
       "    .dataframe tbody tr th:only-of-type {\n",
       "        vertical-align: middle;\n",
       "    }\n",
       "\n",
       "    .dataframe tbody tr th {\n",
       "        vertical-align: top;\n",
       "    }\n",
       "\n",
       "    .dataframe thead th {\n",
       "        text-align: right;\n",
       "    }\n",
       "</style>\n",
       "<table border=\"1\" class=\"dataframe\">\n",
       "  <thead>\n",
       "    <tr style=\"text-align: right;\">\n",
       "      <th></th>\n",
       "      <th>hadm_id</th>\n",
       "      <th>seq_num</th>\n",
       "      <th>icd_code</th>\n",
       "      <th>icd_version</th>\n",
       "      <th>gender</th>\n",
       "      <th>anchor_age</th>\n",
       "      <th>anchor_year</th>\n",
       "      <th>anchor_year_group</th>\n",
       "      <th>dod</th>\n",
       "    </tr>\n",
       "    <tr>\n",
       "      <th>subject_id</th>\n",
       "      <th></th>\n",
       "      <th></th>\n",
       "      <th></th>\n",
       "      <th></th>\n",
       "      <th></th>\n",
       "      <th></th>\n",
       "      <th></th>\n",
       "      <th></th>\n",
       "      <th></th>\n",
       "    </tr>\n",
       "  </thead>\n",
       "  <tbody>\n",
       "    <tr>\n",
       "      <th>12116269</th>\n",
       "      <td>24214849</td>\n",
       "      <td>2</td>\n",
       "      <td>431</td>\n",
       "      <td>9</td>\n",
       "      <td>M</td>\n",
       "      <td>66</td>\n",
       "      <td>2166</td>\n",
       "      <td>2008 - 2010</td>\n",
       "      <td>0</td>\n",
       "    </tr>\n",
       "    <tr>\n",
       "      <th>12155595</th>\n",
       "      <td>26672436</td>\n",
       "      <td>2</td>\n",
       "      <td>431</td>\n",
       "      <td>9</td>\n",
       "      <td>F</td>\n",
       "      <td>52</td>\n",
       "      <td>2168</td>\n",
       "      <td>2008 - 2010</td>\n",
       "      <td>0</td>\n",
       "    </tr>\n",
       "    <tr>\n",
       "      <th>19620109</th>\n",
       "      <td>26497452</td>\n",
       "      <td>2</td>\n",
       "      <td>431</td>\n",
       "      <td>9</td>\n",
       "      <td>F</td>\n",
       "      <td>66</td>\n",
       "      <td>2128</td>\n",
       "      <td>2008 - 2010</td>\n",
       "      <td>0</td>\n",
       "    </tr>\n",
       "    <tr>\n",
       "      <th>19330004</th>\n",
       "      <td>20802265</td>\n",
       "      <td>1</td>\n",
       "      <td>431</td>\n",
       "      <td>9</td>\n",
       "      <td>M</td>\n",
       "      <td>52</td>\n",
       "      <td>2187</td>\n",
       "      <td>2008 - 2010</td>\n",
       "      <td>0</td>\n",
       "    </tr>\n",
       "    <tr>\n",
       "      <th>18414729</th>\n",
       "      <td>22609366</td>\n",
       "      <td>2</td>\n",
       "      <td>431</td>\n",
       "      <td>9</td>\n",
       "      <td>F</td>\n",
       "      <td>60</td>\n",
       "      <td>2152</td>\n",
       "      <td>2008 - 2010</td>\n",
       "      <td>0</td>\n",
       "    </tr>\n",
       "    <tr>\n",
       "      <th>...</th>\n",
       "      <td>...</td>\n",
       "      <td>...</td>\n",
       "      <td>...</td>\n",
       "      <td>...</td>\n",
       "      <td>...</td>\n",
       "      <td>...</td>\n",
       "      <td>...</td>\n",
       "      <td>...</td>\n",
       "      <td>...</td>\n",
       "    </tr>\n",
       "    <tr>\n",
       "      <th>14050724</th>\n",
       "      <td>20952526</td>\n",
       "      <td>1</td>\n",
       "      <td>I615</td>\n",
       "      <td>10</td>\n",
       "      <td>F</td>\n",
       "      <td>57</td>\n",
       "      <td>2112</td>\n",
       "      <td>2011 - 2013</td>\n",
       "      <td>0</td>\n",
       "    </tr>\n",
       "    <tr>\n",
       "      <th>12557389</th>\n",
       "      <td>21294125</td>\n",
       "      <td>1</td>\n",
       "      <td>I613</td>\n",
       "      <td>10</td>\n",
       "      <td>F</td>\n",
       "      <td>79</td>\n",
       "      <td>2151</td>\n",
       "      <td>2017 - 2019</td>\n",
       "      <td>0</td>\n",
       "    </tr>\n",
       "    <tr>\n",
       "      <th>18065731</th>\n",
       "      <td>25556934</td>\n",
       "      <td>1</td>\n",
       "      <td>I618</td>\n",
       "      <td>10</td>\n",
       "      <td>M</td>\n",
       "      <td>46</td>\n",
       "      <td>2137</td>\n",
       "      <td>2011 - 2013</td>\n",
       "      <td>0</td>\n",
       "    </tr>\n",
       "    <tr>\n",
       "      <th>12853711</th>\n",
       "      <td>25849371</td>\n",
       "      <td>2</td>\n",
       "      <td>I611</td>\n",
       "      <td>10</td>\n",
       "      <td>F</td>\n",
       "      <td>87</td>\n",
       "      <td>2117</td>\n",
       "      <td>2017 - 2019</td>\n",
       "      <td>0</td>\n",
       "    </tr>\n",
       "    <tr>\n",
       "      <th>17293846</th>\n",
       "      <td>22176562</td>\n",
       "      <td>11</td>\n",
       "      <td>I615</td>\n",
       "      <td>10</td>\n",
       "      <td>M</td>\n",
       "      <td>39</td>\n",
       "      <td>2115</td>\n",
       "      <td>2017 - 2019</td>\n",
       "      <td>1</td>\n",
       "    </tr>\n",
       "  </tbody>\n",
       "</table>\n",
       "<p>2485 rows × 9 columns</p>\n",
       "</div>"
      ],
      "text/plain": [
       "             hadm_id  seq_num icd_code  icd_version gender  anchor_age  \\\n",
       "subject_id                                                               \n",
       "12116269    24214849        2      431            9      M          66   \n",
       "12155595    26672436        2      431            9      F          52   \n",
       "19620109    26497452        2      431            9      F          66   \n",
       "19330004    20802265        1      431            9      M          52   \n",
       "18414729    22609366        2      431            9      F          60   \n",
       "...              ...      ...      ...          ...    ...         ...   \n",
       "14050724    20952526        1     I615           10      F          57   \n",
       "12557389    21294125        1     I613           10      F          79   \n",
       "18065731    25556934        1     I618           10      M          46   \n",
       "12853711    25849371        2     I611           10      F          87   \n",
       "17293846    22176562       11     I615           10      M          39   \n",
       "\n",
       "            anchor_year anchor_year_group dod  \n",
       "subject_id                                     \n",
       "12116269           2166       2008 - 2010   0  \n",
       "12155595           2168       2008 - 2010   0  \n",
       "19620109           2128       2008 - 2010   0  \n",
       "19330004           2187       2008 - 2010   0  \n",
       "18414729           2152       2008 - 2010   0  \n",
       "...                 ...               ...  ..  \n",
       "14050724           2112       2011 - 2013   0  \n",
       "12557389           2151       2017 - 2019   0  \n",
       "18065731           2137       2011 - 2013   0  \n",
       "12853711           2117       2017 - 2019   0  \n",
       "17293846           2115       2017 - 2019   1  \n",
       "\n",
       "[2485 rows x 9 columns]"
      ]
     },
     "execution_count": 6,
     "metadata": {},
     "output_type": "execute_result"
    }
   ],
   "source": [
    "cohort = get_icu_cohort('I61',r'^431')\n",
    "print('cohort size', cohort.shape[0])\n",
    "print('mortality_rate', mortality_rate(cohort))\n",
    "cohort"
   ]
  },
  {
   "cell_type": "markdown",
   "metadata": {
    "id": "yhr1JV1_69fV"
   },
   "source": [
    "# Select Features"
   ]
  },
  {
   "cell_type": "code",
   "execution_count": 7,
   "metadata": {
    "executionInfo": {
     "elapsed": 497,
     "status": "ok",
     "timestamp": 1651068646740,
     "user": {
      "displayName": "Jianzhang Ni",
      "userId": "18109982546966884557"
     },
     "user_tz": -60
    },
    "id": "cSaOIcVh7MUN"
   },
   "outputs": [],
   "source": [
    "def get_data(cohort_index, data_table, index_colname):\n",
    "    return data_table[data_table[index_colname].isin(cohort_index)]"
   ]
  },
  {
   "cell_type": "code",
   "execution_count": 8,
   "metadata": {
    "executionInfo": {
     "elapsed": 2,
     "status": "ok",
     "timestamp": 1651068647277,
     "user": {
      "displayName": "Jianzhang Ni",
      "userId": "18109982546966884557"
     },
     "user_tz": -60
    },
    "id": "LtAJ8a11I0Ht"
   },
   "outputs": [],
   "source": [
    "def fill_na_mean(df, rd=2, inplace=True):\n",
    "    for col in list(df.columns[df.isnull().sum() > 0]):\n",
    "        mean_val = df[col].mean()\n",
    "        if inplace:\n",
    "            try:\n",
    "                df[col].fillna(round(mean_val,rd),inplace=inplace)\n",
    "            except TypeError:\n",
    "                continue\n",
    "        else:\n",
    "            try:\n",
    "                df = df[col].fillna(round(mean_val,rd))\n",
    "            except TypeError:\n",
    "                continue\n",
    "    if not inplace:\n",
    "        return df"
   ]
  },
  {
   "cell_type": "code",
   "execution_count": 9,
   "metadata": {
    "executionInfo": {
     "elapsed": 1,
     "status": "ok",
     "timestamp": 1651068648448,
     "user": {
      "displayName": "Jianzhang Ni",
      "userId": "18109982546966884557"
     },
     "user_tz": -60
    },
    "id": "hxfIKijS7vf7"
   },
   "outputs": [],
   "source": [
    "cohort_ind = cohort.index"
   ]
  },
  {
   "cell_type": "markdown",
   "metadata": {
    "id": "dO6jVHS6HS6C"
   },
   "source": [
    "## Load Vital Signs\n",
    "\n",
    "\n"
   ]
  },
  {
   "cell_type": "code",
   "execution_count": 10,
   "metadata": {
    "colab": {
     "base_uri": "https://localhost:8080/",
     "height": 444
    },
    "executionInfo": {
     "elapsed": 4059,
     "status": "ok",
     "timestamp": 1651068669284,
     "user": {
      "displayName": "Jianzhang Ni",
      "userId": "18109982546966884557"
     },
     "user_tz": -60
    },
    "id": "8lxsEan669AJ",
    "outputId": "3ec18171-4ac7-4242-8264-7ac32b198703"
   },
   "outputs": [
    {
     "data": {
      "text/html": [
       "<div>\n",
       "<style scoped>\n",
       "    .dataframe tbody tr th:only-of-type {\n",
       "        vertical-align: middle;\n",
       "    }\n",
       "\n",
       "    .dataframe tbody tr th {\n",
       "        vertical-align: top;\n",
       "    }\n",
       "\n",
       "    .dataframe thead th {\n",
       "        text-align: right;\n",
       "    }\n",
       "</style>\n",
       "<table border=\"1\" class=\"dataframe\">\n",
       "  <thead>\n",
       "    <tr style=\"text-align: right;\">\n",
       "      <th></th>\n",
       "      <th>subject_id</th>\n",
       "      <th>stay_id</th>\n",
       "      <th>charttime</th>\n",
       "      <th>temperature</th>\n",
       "      <th>heartrate</th>\n",
       "      <th>resprate</th>\n",
       "      <th>o2sat</th>\n",
       "      <th>sbp</th>\n",
       "      <th>dbp</th>\n",
       "      <th>rhythm</th>\n",
       "      <th>pain</th>\n",
       "    </tr>\n",
       "  </thead>\n",
       "  <tbody>\n",
       "    <tr>\n",
       "      <th>0</th>\n",
       "      <td>16113983</td>\n",
       "      <td>37539106</td>\n",
       "      <td>2116-06-10 00:32:00</td>\n",
       "      <td>98.2</td>\n",
       "      <td>82.0</td>\n",
       "      <td>15.0</td>\n",
       "      <td>NaN</td>\n",
       "      <td>106.0</td>\n",
       "      <td>72.0</td>\n",
       "      <td>NaN</td>\n",
       "      <td>NaN</td>\n",
       "    </tr>\n",
       "    <tr>\n",
       "      <th>1</th>\n",
       "      <td>15128994</td>\n",
       "      <td>30058281</td>\n",
       "      <td>2167-08-29 02:25:00</td>\n",
       "      <td>98.3</td>\n",
       "      <td>79.0</td>\n",
       "      <td>20.0</td>\n",
       "      <td>97.0</td>\n",
       "      <td>126.0</td>\n",
       "      <td>73.0</td>\n",
       "      <td>NaN</td>\n",
       "      <td>0</td>\n",
       "    </tr>\n",
       "    <tr>\n",
       "      <th>2</th>\n",
       "      <td>15128994</td>\n",
       "      <td>30058281</td>\n",
       "      <td>2167-08-29 04:51:00</td>\n",
       "      <td>97.6</td>\n",
       "      <td>79.0</td>\n",
       "      <td>20.0</td>\n",
       "      <td>98.0</td>\n",
       "      <td>126.0</td>\n",
       "      <td>73.0</td>\n",
       "      <td>NaN</td>\n",
       "      <td>0</td>\n",
       "    </tr>\n",
       "    <tr>\n",
       "      <th>3</th>\n",
       "      <td>15128994</td>\n",
       "      <td>30058281</td>\n",
       "      <td>2167-08-29 05:35:00</td>\n",
       "      <td>98.3</td>\n",
       "      <td>76.0</td>\n",
       "      <td>18.0</td>\n",
       "      <td>NaN</td>\n",
       "      <td>123.0</td>\n",
       "      <td>68.0</td>\n",
       "      <td>NaN</td>\n",
       "      <td>0/10</td>\n",
       "    </tr>\n",
       "    <tr>\n",
       "      <th>4</th>\n",
       "      <td>18019452</td>\n",
       "      <td>37300626</td>\n",
       "      <td>2148-12-19 12:34:00</td>\n",
       "      <td>98.1</td>\n",
       "      <td>100.0</td>\n",
       "      <td>16.0</td>\n",
       "      <td>98.0</td>\n",
       "      <td>129.0</td>\n",
       "      <td>86.0</td>\n",
       "      <td>NaN</td>\n",
       "      <td>0</td>\n",
       "    </tr>\n",
       "  </tbody>\n",
       "</table>\n",
       "</div>"
      ],
      "text/plain": [
       "   subject_id   stay_id            charttime  temperature  heartrate  \\\n",
       "0    16113983  37539106  2116-06-10 00:32:00         98.2       82.0   \n",
       "1    15128994  30058281  2167-08-29 02:25:00         98.3       79.0   \n",
       "2    15128994  30058281  2167-08-29 04:51:00         97.6       79.0   \n",
       "3    15128994  30058281  2167-08-29 05:35:00         98.3       76.0   \n",
       "4    18019452  37300626  2148-12-19 12:34:00         98.1      100.0   \n",
       "\n",
       "   resprate  o2sat    sbp   dbp rhythm  pain  \n",
       "0      15.0    NaN  106.0  72.0    NaN   NaN  \n",
       "1      20.0   97.0  126.0  73.0    NaN     0  \n",
       "2      20.0   98.0  126.0  73.0    NaN     0  \n",
       "3      18.0    NaN  123.0  68.0    NaN  0/10  \n",
       "4      16.0   98.0  129.0  86.0    NaN     0  "
      ]
     },
     "execution_count": 10,
     "metadata": {},
     "output_type": "execute_result"
    }
   ],
   "source": [
    "vital_raw = pd.read_csv('../data/ed/vitalsign.csv')\n",
    "vital_raw.head()"
   ]
  },
  {
   "cell_type": "code",
   "execution_count": 11,
   "metadata": {
    "colab": {
     "base_uri": "https://localhost:8080/",
     "height": 337
    },
    "executionInfo": {
     "elapsed": 4,
     "status": "ok",
     "timestamp": 1651068670630,
     "user": {
      "displayName": "Jianzhang Ni",
      "userId": "18109982546966884557"
     },
     "user_tz": -60
    },
    "id": "za1yaLFdQrrY",
    "outputId": "e3cc5c49-5146-492f-c200-390cb35c0e2b"
   },
   "outputs": [
    {
     "data": {
      "text/html": [
       "<div>\n",
       "<style scoped>\n",
       "    .dataframe tbody tr th:only-of-type {\n",
       "        vertical-align: middle;\n",
       "    }\n",
       "\n",
       "    .dataframe tbody tr th {\n",
       "        vertical-align: top;\n",
       "    }\n",
       "\n",
       "    .dataframe thead th {\n",
       "        text-align: right;\n",
       "    }\n",
       "</style>\n",
       "<table border=\"1\" class=\"dataframe\">\n",
       "  <thead>\n",
       "    <tr style=\"text-align: right;\">\n",
       "      <th></th>\n",
       "      <th>subject_id</th>\n",
       "      <th>stay_id</th>\n",
       "      <th>charttime</th>\n",
       "      <th>temperature</th>\n",
       "      <th>heartrate</th>\n",
       "      <th>resprate</th>\n",
       "      <th>o2sat</th>\n",
       "      <th>sbp</th>\n",
       "      <th>dbp</th>\n",
       "    </tr>\n",
       "  </thead>\n",
       "  <tbody>\n",
       "    <tr>\n",
       "      <th>105</th>\n",
       "      <td>10046166</td>\n",
       "      <td>38848658</td>\n",
       "      <td>2132-12-06 11:53:00</td>\n",
       "      <td>97.0</td>\n",
       "      <td>75.0</td>\n",
       "      <td>12.0</td>\n",
       "      <td>NaN</td>\n",
       "      <td>154.0</td>\n",
       "      <td>73.0</td>\n",
       "    </tr>\n",
       "    <tr>\n",
       "      <th>261</th>\n",
       "      <td>10900387</td>\n",
       "      <td>30300312</td>\n",
       "      <td>2146-09-08 01:25:00</td>\n",
       "      <td>98.8</td>\n",
       "      <td>79.0</td>\n",
       "      <td>16.0</td>\n",
       "      <td>93.0</td>\n",
       "      <td>162.0</td>\n",
       "      <td>87.0</td>\n",
       "    </tr>\n",
       "    <tr>\n",
       "      <th>525</th>\n",
       "      <td>16652205</td>\n",
       "      <td>35474533</td>\n",
       "      <td>2169-04-09 18:55:00</td>\n",
       "      <td>NaN</td>\n",
       "      <td>73.0</td>\n",
       "      <td>27.0</td>\n",
       "      <td>98.0</td>\n",
       "      <td>169.0</td>\n",
       "      <td>79.0</td>\n",
       "    </tr>\n",
       "    <tr>\n",
       "      <th>526</th>\n",
       "      <td>16652205</td>\n",
       "      <td>35474533</td>\n",
       "      <td>2169-04-09 19:50:00</td>\n",
       "      <td>NaN</td>\n",
       "      <td>70.0</td>\n",
       "      <td>45.0</td>\n",
       "      <td>100.0</td>\n",
       "      <td>187.0</td>\n",
       "      <td>69.0</td>\n",
       "    </tr>\n",
       "    <tr>\n",
       "      <th>527</th>\n",
       "      <td>16652205</td>\n",
       "      <td>35474533</td>\n",
       "      <td>2169-04-09 21:00:00</td>\n",
       "      <td>98.4</td>\n",
       "      <td>70.0</td>\n",
       "      <td>30.0</td>\n",
       "      <td>98.0</td>\n",
       "      <td>138.0</td>\n",
       "      <td>58.0</td>\n",
       "    </tr>\n",
       "  </tbody>\n",
       "</table>\n",
       "</div>"
      ],
      "text/plain": [
       "     subject_id   stay_id            charttime  temperature  heartrate  \\\n",
       "105    10046166  38848658  2132-12-06 11:53:00         97.0       75.0   \n",
       "261    10900387  30300312  2146-09-08 01:25:00         98.8       79.0   \n",
       "525    16652205  35474533  2169-04-09 18:55:00          NaN       73.0   \n",
       "526    16652205  35474533  2169-04-09 19:50:00          NaN       70.0   \n",
       "527    16652205  35474533  2169-04-09 21:00:00         98.4       70.0   \n",
       "\n",
       "     resprate  o2sat    sbp   dbp  \n",
       "105      12.0    NaN  154.0  73.0  \n",
       "261      16.0   93.0  162.0  87.0  \n",
       "525      27.0   98.0  169.0  79.0  \n",
       "526      45.0  100.0  187.0  69.0  \n",
       "527      30.0   98.0  138.0  58.0  "
      ]
     },
     "execution_count": 11,
     "metadata": {},
     "output_type": "execute_result"
    }
   ],
   "source": [
    "# Drop rhythm, pain which have a lot of missing data\n",
    "vital_id = get_data(cohort_ind, vital_raw, 'subject_id' ).iloc[:,:-2]\n",
    "vital_id.head()"
   ]
  },
  {
   "cell_type": "code",
   "execution_count": 12,
   "metadata": {
    "colab": {
     "base_uri": "https://localhost:8080/",
     "height": 641
    },
    "executionInfo": {
     "elapsed": 467,
     "status": "ok",
     "timestamp": 1651068675953,
     "user": {
      "displayName": "Jianzhang Ni",
      "userId": "18109982546966884557"
     },
     "user_tz": -60
    },
    "id": "Chrq0NZmQ_Ja",
    "outputId": "ab223458-727f-4e89-c912-e0481f1dae62"
   },
   "outputs": [
    {
     "data": {
      "text/html": [
       "<div>\n",
       "<style scoped>\n",
       "    .dataframe tbody tr th:only-of-type {\n",
       "        vertical-align: middle;\n",
       "    }\n",
       "\n",
       "    .dataframe tbody tr th {\n",
       "        vertical-align: top;\n",
       "    }\n",
       "\n",
       "    .dataframe thead th {\n",
       "        text-align: right;\n",
       "    }\n",
       "</style>\n",
       "<table border=\"1\" class=\"dataframe\">\n",
       "  <thead>\n",
       "    <tr style=\"text-align: right;\">\n",
       "      <th></th>\n",
       "      <th>subject_id</th>\n",
       "      <th>stay_id</th>\n",
       "      <th>charttime</th>\n",
       "      <th>temperature</th>\n",
       "      <th>heartrate</th>\n",
       "      <th>resprate</th>\n",
       "      <th>o2sat</th>\n",
       "      <th>sbp</th>\n",
       "      <th>dbp</th>\n",
       "    </tr>\n",
       "  </thead>\n",
       "  <tbody>\n",
       "    <tr>\n",
       "      <th>105</th>\n",
       "      <td>10046166</td>\n",
       "      <td>38848658</td>\n",
       "      <td>2132-12-06 11:53:00</td>\n",
       "      <td>97.00</td>\n",
       "      <td>75.0</td>\n",
       "      <td>12.0</td>\n",
       "      <td>97.55</td>\n",
       "      <td>154.0</td>\n",
       "      <td>73.0</td>\n",
       "    </tr>\n",
       "    <tr>\n",
       "      <th>261</th>\n",
       "      <td>10900387</td>\n",
       "      <td>30300312</td>\n",
       "      <td>2146-09-08 01:25:00</td>\n",
       "      <td>98.80</td>\n",
       "      <td>79.0</td>\n",
       "      <td>16.0</td>\n",
       "      <td>93.00</td>\n",
       "      <td>162.0</td>\n",
       "      <td>87.0</td>\n",
       "    </tr>\n",
       "    <tr>\n",
       "      <th>525</th>\n",
       "      <td>16652205</td>\n",
       "      <td>35474533</td>\n",
       "      <td>2169-04-09 18:55:00</td>\n",
       "      <td>97.47</td>\n",
       "      <td>73.0</td>\n",
       "      <td>27.0</td>\n",
       "      <td>98.00</td>\n",
       "      <td>169.0</td>\n",
       "      <td>79.0</td>\n",
       "    </tr>\n",
       "    <tr>\n",
       "      <th>526</th>\n",
       "      <td>16652205</td>\n",
       "      <td>35474533</td>\n",
       "      <td>2169-04-09 19:50:00</td>\n",
       "      <td>97.47</td>\n",
       "      <td>70.0</td>\n",
       "      <td>45.0</td>\n",
       "      <td>100.00</td>\n",
       "      <td>187.0</td>\n",
       "      <td>69.0</td>\n",
       "    </tr>\n",
       "    <tr>\n",
       "      <th>527</th>\n",
       "      <td>16652205</td>\n",
       "      <td>35474533</td>\n",
       "      <td>2169-04-09 21:00:00</td>\n",
       "      <td>98.40</td>\n",
       "      <td>70.0</td>\n",
       "      <td>30.0</td>\n",
       "      <td>98.00</td>\n",
       "      <td>138.0</td>\n",
       "      <td>58.0</td>\n",
       "    </tr>\n",
       "    <tr>\n",
       "      <th>...</th>\n",
       "      <td>...</td>\n",
       "      <td>...</td>\n",
       "      <td>...</td>\n",
       "      <td>...</td>\n",
       "      <td>...</td>\n",
       "      <td>...</td>\n",
       "      <td>...</td>\n",
       "      <td>...</td>\n",
       "      <td>...</td>\n",
       "    </tr>\n",
       "    <tr>\n",
       "      <th>1650418</th>\n",
       "      <td>12557389</td>\n",
       "      <td>35529368</td>\n",
       "      <td>2153-01-24 23:15:00</td>\n",
       "      <td>97.47</td>\n",
       "      <td>75.0</td>\n",
       "      <td>23.0</td>\n",
       "      <td>98.00</td>\n",
       "      <td>119.0</td>\n",
       "      <td>62.0</td>\n",
       "    </tr>\n",
       "    <tr>\n",
       "      <th>1650902</th>\n",
       "      <td>14745196</td>\n",
       "      <td>36076575</td>\n",
       "      <td>2204-06-17 12:14:00</td>\n",
       "      <td>97.20</td>\n",
       "      <td>89.0</td>\n",
       "      <td>16.0</td>\n",
       "      <td>98.00</td>\n",
       "      <td>129.0</td>\n",
       "      <td>86.0</td>\n",
       "    </tr>\n",
       "    <tr>\n",
       "      <th>1650903</th>\n",
       "      <td>14745196</td>\n",
       "      <td>36076575</td>\n",
       "      <td>2204-06-17 14:59:00</td>\n",
       "      <td>98.90</td>\n",
       "      <td>88.0</td>\n",
       "      <td>18.0</td>\n",
       "      <td>97.00</td>\n",
       "      <td>166.0</td>\n",
       "      <td>91.0</td>\n",
       "    </tr>\n",
       "    <tr>\n",
       "      <th>1650904</th>\n",
       "      <td>14745196</td>\n",
       "      <td>36076575</td>\n",
       "      <td>2204-06-17 18:33:00</td>\n",
       "      <td>99.50</td>\n",
       "      <td>95.0</td>\n",
       "      <td>20.0</td>\n",
       "      <td>94.00</td>\n",
       "      <td>153.0</td>\n",
       "      <td>67.0</td>\n",
       "    </tr>\n",
       "    <tr>\n",
       "      <th>1650905</th>\n",
       "      <td>14745196</td>\n",
       "      <td>36076575</td>\n",
       "      <td>2204-06-17 21:02:00</td>\n",
       "      <td>98.70</td>\n",
       "      <td>66.0</td>\n",
       "      <td>18.0</td>\n",
       "      <td>94.00</td>\n",
       "      <td>124.0</td>\n",
       "      <td>70.0</td>\n",
       "    </tr>\n",
       "  </tbody>\n",
       "</table>\n",
       "<p>26450 rows × 9 columns</p>\n",
       "</div>"
      ],
      "text/plain": [
       "         subject_id   stay_id            charttime  temperature  heartrate  \\\n",
       "105        10046166  38848658  2132-12-06 11:53:00        97.00       75.0   \n",
       "261        10900387  30300312  2146-09-08 01:25:00        98.80       79.0   \n",
       "525        16652205  35474533  2169-04-09 18:55:00        97.47       73.0   \n",
       "526        16652205  35474533  2169-04-09 19:50:00        97.47       70.0   \n",
       "527        16652205  35474533  2169-04-09 21:00:00        98.40       70.0   \n",
       "...             ...       ...                  ...          ...        ...   \n",
       "1650418    12557389  35529368  2153-01-24 23:15:00        97.47       75.0   \n",
       "1650902    14745196  36076575  2204-06-17 12:14:00        97.20       89.0   \n",
       "1650903    14745196  36076575  2204-06-17 14:59:00        98.90       88.0   \n",
       "1650904    14745196  36076575  2204-06-17 18:33:00        99.50       95.0   \n",
       "1650905    14745196  36076575  2204-06-17 21:02:00        98.70       66.0   \n",
       "\n",
       "         resprate   o2sat    sbp   dbp  \n",
       "105          12.0   97.55  154.0  73.0  \n",
       "261          16.0   93.00  162.0  87.0  \n",
       "525          27.0   98.00  169.0  79.0  \n",
       "526          45.0  100.00  187.0  69.0  \n",
       "527          30.0   98.00  138.0  58.0  \n",
       "...           ...     ...    ...   ...  \n",
       "1650418      23.0   98.00  119.0  62.0  \n",
       "1650902      16.0   98.00  129.0  86.0  \n",
       "1650903      18.0   97.00  166.0  91.0  \n",
       "1650904      20.0   94.00  153.0  67.0  \n",
       "1650905      18.0   94.00  124.0  70.0  \n",
       "\n",
       "[26450 rows x 9 columns]"
      ]
     },
     "execution_count": 12,
     "metadata": {},
     "output_type": "execute_result"
    }
   ],
   "source": [
    "fill_na_mean(vital_id)\n",
    "vital_id"
   ]
  },
  {
   "cell_type": "code",
   "execution_count": 13,
   "metadata": {
    "executionInfo": {
     "elapsed": 365,
     "status": "ok",
     "timestamp": 1651068680492,
     "user": {
      "displayName": "Jianzhang Ni",
      "userId": "18109982546966884557"
     },
     "user_tz": -60
    },
    "id": "llXrPI13Q3MY"
   },
   "outputs": [],
   "source": [
    "vital_id =vital_id.drop_duplicates('subject_id', keep='last').set_index('subject_id')"
   ]
  },
  {
   "cell_type": "code",
   "execution_count": 14,
   "metadata": {
    "colab": {
     "base_uri": "https://localhost:8080/",
     "height": 237
    },
    "executionInfo": {
     "elapsed": 556,
     "status": "ok",
     "timestamp": 1651068682779,
     "user": {
      "displayName": "Jianzhang Ni",
      "userId": "18109982546966884557"
     },
     "user_tz": -60
    },
    "id": "GQwjlj-UUb2p",
    "outputId": "cabb62e9-c3fa-4e58-cf96-fb1d9424d630"
   },
   "outputs": [
    {
     "data": {
      "text/html": [
       "<div>\n",
       "<style scoped>\n",
       "    .dataframe tbody tr th:only-of-type {\n",
       "        vertical-align: middle;\n",
       "    }\n",
       "\n",
       "    .dataframe tbody tr th {\n",
       "        vertical-align: top;\n",
       "    }\n",
       "\n",
       "    .dataframe thead th {\n",
       "        text-align: right;\n",
       "    }\n",
       "</style>\n",
       "<table border=\"1\" class=\"dataframe\">\n",
       "  <thead>\n",
       "    <tr style=\"text-align: right;\">\n",
       "      <th></th>\n",
       "      <th>stay_id</th>\n",
       "      <th>charttime</th>\n",
       "      <th>temperature</th>\n",
       "      <th>heartrate</th>\n",
       "      <th>resprate</th>\n",
       "      <th>o2sat</th>\n",
       "      <th>sbp</th>\n",
       "      <th>dbp</th>\n",
       "    </tr>\n",
       "    <tr>\n",
       "      <th>subject_id</th>\n",
       "      <th></th>\n",
       "      <th></th>\n",
       "      <th></th>\n",
       "      <th></th>\n",
       "      <th></th>\n",
       "      <th></th>\n",
       "      <th></th>\n",
       "      <th></th>\n",
       "    </tr>\n",
       "  </thead>\n",
       "  <tbody>\n",
       "    <tr>\n",
       "      <th>16652205</th>\n",
       "      <td>31288294</td>\n",
       "      <td>2169-04-22 23:50:00</td>\n",
       "      <td>101.40</td>\n",
       "      <td>100.0</td>\n",
       "      <td>44.0</td>\n",
       "      <td>97.55</td>\n",
       "      <td>97.0</td>\n",
       "      <td>61.0</td>\n",
       "    </tr>\n",
       "    <tr>\n",
       "      <th>11213607</th>\n",
       "      <td>32187974</td>\n",
       "      <td>2194-06-11 01:48:00</td>\n",
       "      <td>98.40</td>\n",
       "      <td>98.0</td>\n",
       "      <td>20.0</td>\n",
       "      <td>98.00</td>\n",
       "      <td>152.0</td>\n",
       "      <td>80.0</td>\n",
       "    </tr>\n",
       "    <tr>\n",
       "      <th>19620109</th>\n",
       "      <td>36855170</td>\n",
       "      <td>2132-10-16 23:43:00</td>\n",
       "      <td>98.50</td>\n",
       "      <td>67.0</td>\n",
       "      <td>15.0</td>\n",
       "      <td>100.00</td>\n",
       "      <td>101.0</td>\n",
       "      <td>67.0</td>\n",
       "    </tr>\n",
       "    <tr>\n",
       "      <th>16379037</th>\n",
       "      <td>37641494</td>\n",
       "      <td>2177-04-16 23:54:00</td>\n",
       "      <td>98.00</td>\n",
       "      <td>100.0</td>\n",
       "      <td>19.0</td>\n",
       "      <td>98.00</td>\n",
       "      <td>145.0</td>\n",
       "      <td>80.0</td>\n",
       "    </tr>\n",
       "    <tr>\n",
       "      <th>15936063</th>\n",
       "      <td>38505545</td>\n",
       "      <td>2161-05-22 16:30:00</td>\n",
       "      <td>97.47</td>\n",
       "      <td>118.0</td>\n",
       "      <td>20.0</td>\n",
       "      <td>98.00</td>\n",
       "      <td>145.0</td>\n",
       "      <td>72.0</td>\n",
       "    </tr>\n",
       "  </tbody>\n",
       "</table>\n",
       "</div>"
      ],
      "text/plain": [
       "             stay_id            charttime  temperature  heartrate  resprate  \\\n",
       "subject_id                                                                    \n",
       "16652205    31288294  2169-04-22 23:50:00       101.40      100.0      44.0   \n",
       "11213607    32187974  2194-06-11 01:48:00        98.40       98.0      20.0   \n",
       "19620109    36855170  2132-10-16 23:43:00        98.50       67.0      15.0   \n",
       "16379037    37641494  2177-04-16 23:54:00        98.00      100.0      19.0   \n",
       "15936063    38505545  2161-05-22 16:30:00        97.47      118.0      20.0   \n",
       "\n",
       "             o2sat    sbp   dbp  \n",
       "subject_id                       \n",
       "16652205     97.55   97.0  61.0  \n",
       "11213607     98.00  152.0  80.0  \n",
       "19620109    100.00  101.0  67.0  \n",
       "16379037     98.00  145.0  80.0  \n",
       "15936063     98.00  145.0  72.0  "
      ]
     },
     "execution_count": 14,
     "metadata": {},
     "output_type": "execute_result"
    }
   ],
   "source": [
    "vital_id.head()"
   ]
  },
  {
   "cell_type": "code",
   "execution_count": 15,
   "metadata": {
    "colab": {
     "base_uri": "https://localhost:8080/"
    },
    "executionInfo": {
     "elapsed": 403,
     "status": "ok",
     "timestamp": 1651069981493,
     "user": {
      "displayName": "Jianzhang Ni",
      "userId": "18109982546966884557"
     },
     "user_tz": -60
    },
    "id": "eOjwy6KFW9HB",
    "outputId": "fbfaf050-8831-4f36-d9f3-8f345dcbcc58"
   },
   "outputs": [
    {
     "data": {
      "text/plain": [
       "(2485, 17)"
      ]
     },
     "execution_count": 15,
     "metadata": {},
     "output_type": "execute_result"
    }
   ],
   "source": [
    "final = cohort.join(vital_id)\n",
    "final.shape"
   ]
  },
  {
   "cell_type": "markdown",
   "metadata": {
    "id": "zXltDgUnUpGL"
   },
   "source": [
    "## Load chartted Event"
   ]
  },
  {
   "cell_type": "code",
   "execution_count": 16,
   "metadata": {
    "id": "CsD9Lg6SZJcY"
   },
   "outputs": [
    {
     "data": {
      "text/plain": [
       "'\\nproject_id = \\'focus-dragon-313813\\'\\n\\ndf = pd.io.gbq.read_gbq(f\"\"\"SELECT * \\nFROM `physionet-data.mimic_icu.chartevents`\\nWHERE subject_id in {tuple(cohort.index.values.tolist())}\\nORDER BY subject_id\"\"\", project_id=\\'focus-dragon-313813\\', dialect=\\'standard\\')'"
      ]
     },
     "execution_count": 16,
     "metadata": {},
     "output_type": "execute_result"
    }
   ],
   "source": [
    "# Select data From Google Bigquery using SQL\n",
    "# This command took 20 mins to run, returns 10 milion rows of data.\n",
    "# So won't run it here, we saved the output locally and then load it. \n",
    "'''\n",
    "project_id = 'focus-dragon-313813'\n",
    "\n",
    "df = pd.io.gbq.read_gbq(f\"\"\"SELECT * \n",
    "FROM `physionet-data.mimic_icu.chartevents`\n",
    "WHERE subject_id in {tuple(cohort.index.values.tolist())}\n",
    "ORDER BY subject_id\"\"\", project_id='focus-dragon-313813', dialect='standard')'''"
   ]
  },
  {
   "cell_type": "code",
   "execution_count": 17,
   "metadata": {
    "id": "2l7_7TGiZasz"
   },
   "outputs": [],
   "source": [
    "# Selected Features from table event\n",
    "\n",
    "# PH (Venous)\n",
    "# Chloride (serum)\n",
    "# Creatinine (serum)\n",
    "# Magnesium\n",
    "# Sodium (serum)\n",
    "# PH (dipstick)\n",
    "# Sodium Bicarbonate 8.4%\n",
    "# Norepinephrine\n",
    "# Magnesium Sulfate\n",
    "# PH (Arterial)\n",
    "# GCS - Verbal Response\n",
    "# Heparin Sodium\n",
    "# Chloride (whole blood)\n",
    "# CreatinineApacheIIScore\n",
    "# CreatinineApacheIIValue\n",
    "# HematocritApacheIIScore\n",
    "# WbcApacheIIScore\n",
    "# WBCApacheIIValue\n",
    "# Hematocrit_ApacheIV\n",
    "# HR_ApacheIV\n",
    "# WBC_ApacheIV\n",
    "# WBCScore_ApacheIV\n",
    "# Magnesium Sulfate (Bolus)\n",
    "# Chloride (serum) (soft)\n",
    "# Sodium (serum) (soft)\n",
    "# Creatinine (whole blood)\n",
    "# selected_items = [220274,220602,220615,220635,220645,220734,220995,221906,222011,223830,223900,\n",
    "# 225152,226536,226751,226752,226761,226779,226780,227017,227018,227062,227063,227523,228385,228389,229761,]"
   ]
  },
  {
   "cell_type": "code",
   "execution_count": 18,
   "metadata": {
    "id": "Q2qLOXZO2k86"
   },
   "outputs": [],
   "source": [
    "# df[df['itemid'].isin(selected_items)].to_csv('chart_event_filtered.csv')"
   ]
  },
  {
   "cell_type": "code",
   "execution_count": 19,
   "metadata": {
    "colab": {
     "base_uri": "https://localhost:8080/"
    },
    "executionInfo": {
     "elapsed": 282,
     "status": "ok",
     "timestamp": 1650990799821,
     "user": {
      "displayName": "Jianzhang Ni",
      "userId": "18109982546966884557"
     },
     "user_tz": -60
    },
    "id": "3vHMRHtht7pS",
    "outputId": "1026c938-05cf-45a7-f1d2-6eff7722367f"
   },
   "outputs": [],
   "source": [
    "# len(df['itemid'].unique())"
   ]
  },
  {
   "cell_type": "code",
   "execution_count": 20,
   "metadata": {
    "colab": {
     "base_uri": "https://localhost:8080/",
     "height": 461
    },
    "executionInfo": {
     "elapsed": 2178,
     "status": "ok",
     "timestamp": 1651068699998,
     "user": {
      "displayName": "Jianzhang Ni",
      "userId": "18109982546966884557"
     },
     "user_tz": -60
    },
    "id": "dyMrisljU_HJ",
    "outputId": "d9e3fc8a-2627-4a40-b770-8f821bd257eb"
   },
   "outputs": [
    {
     "data": {
      "text/html": [
       "<div>\n",
       "<style scoped>\n",
       "    .dataframe tbody tr th:only-of-type {\n",
       "        vertical-align: middle;\n",
       "    }\n",
       "\n",
       "    .dataframe tbody tr th {\n",
       "        vertical-align: top;\n",
       "    }\n",
       "\n",
       "    .dataframe thead th {\n",
       "        text-align: right;\n",
       "    }\n",
       "</style>\n",
       "<table border=\"1\" class=\"dataframe\">\n",
       "  <thead>\n",
       "    <tr style=\"text-align: right;\">\n",
       "      <th></th>\n",
       "      <th>Unnamed: 0</th>\n",
       "      <th>subject_id</th>\n",
       "      <th>hadm_id</th>\n",
       "      <th>stay_id</th>\n",
       "      <th>charttime</th>\n",
       "      <th>storetime</th>\n",
       "      <th>itemid</th>\n",
       "      <th>value</th>\n",
       "      <th>valuenum</th>\n",
       "      <th>valueuom</th>\n",
       "      <th>warning</th>\n",
       "    </tr>\n",
       "  </thead>\n",
       "  <tbody>\n",
       "    <tr>\n",
       "      <th>0</th>\n",
       "      <td>24</td>\n",
       "      <td>10007677</td>\n",
       "      <td>27180483</td>\n",
       "      <td>34992648</td>\n",
       "      <td>2120-11-21 12:00:00</td>\n",
       "      <td>2120-11-21 13:48:00</td>\n",
       "      <td>223900</td>\n",
       "      <td>Oriented</td>\n",
       "      <td>5.0</td>\n",
       "      <td>NaN</td>\n",
       "      <td>0</td>\n",
       "    </tr>\n",
       "    <tr>\n",
       "      <th>1</th>\n",
       "      <td>78</td>\n",
       "      <td>10007677</td>\n",
       "      <td>27180483</td>\n",
       "      <td>34992648</td>\n",
       "      <td>2120-11-17 20:00:00</td>\n",
       "      <td>2120-11-17 20:52:00</td>\n",
       "      <td>223900</td>\n",
       "      <td>Oriented</td>\n",
       "      <td>5.0</td>\n",
       "      <td>NaN</td>\n",
       "      <td>0</td>\n",
       "    </tr>\n",
       "    <tr>\n",
       "      <th>2</th>\n",
       "      <td>117</td>\n",
       "      <td>10007677</td>\n",
       "      <td>27180483</td>\n",
       "      <td>34992648</td>\n",
       "      <td>2120-11-21 18:48:00</td>\n",
       "      <td>2120-11-21 19:40:00</td>\n",
       "      <td>220645</td>\n",
       "      <td>130</td>\n",
       "      <td>130.0</td>\n",
       "      <td>mEq/L</td>\n",
       "      <td>1</td>\n",
       "    </tr>\n",
       "    <tr>\n",
       "      <th>3</th>\n",
       "      <td>159</td>\n",
       "      <td>10007677</td>\n",
       "      <td>27180483</td>\n",
       "      <td>34992648</td>\n",
       "      <td>2120-11-19 12:00:00</td>\n",
       "      <td>2120-11-19 11:59:00</td>\n",
       "      <td>223900</td>\n",
       "      <td>Oriented</td>\n",
       "      <td>5.0</td>\n",
       "      <td>NaN</td>\n",
       "      <td>0</td>\n",
       "    </tr>\n",
       "    <tr>\n",
       "      <th>4</th>\n",
       "      <td>220</td>\n",
       "      <td>10007677</td>\n",
       "      <td>27180483</td>\n",
       "      <td>34992648</td>\n",
       "      <td>2120-11-19 00:40:00</td>\n",
       "      <td>2120-11-19 00:40:00</td>\n",
       "      <td>223900</td>\n",
       "      <td>Oriented</td>\n",
       "      <td>5.0</td>\n",
       "      <td>NaN</td>\n",
       "      <td>0</td>\n",
       "    </tr>\n",
       "  </tbody>\n",
       "</table>\n",
       "</div>"
      ],
      "text/plain": [
       "   Unnamed: 0  subject_id   hadm_id   stay_id            charttime  \\\n",
       "0          24    10007677  27180483  34992648  2120-11-21 12:00:00   \n",
       "1          78    10007677  27180483  34992648  2120-11-17 20:00:00   \n",
       "2         117    10007677  27180483  34992648  2120-11-21 18:48:00   \n",
       "3         159    10007677  27180483  34992648  2120-11-19 12:00:00   \n",
       "4         220    10007677  27180483  34992648  2120-11-19 00:40:00   \n",
       "\n",
       "             storetime  itemid     value  valuenum valueuom  warning  \n",
       "0  2120-11-21 13:48:00  223900  Oriented       5.0      NaN        0  \n",
       "1  2120-11-17 20:52:00  223900  Oriented       5.0      NaN        0  \n",
       "2  2120-11-21 19:40:00  220645       130     130.0    mEq/L        1  \n",
       "3  2120-11-19 11:59:00  223900  Oriented       5.0      NaN        0  \n",
       "4  2120-11-19 00:40:00  223900  Oriented       5.0      NaN        0  "
      ]
     },
     "execution_count": 20,
     "metadata": {},
     "output_type": "execute_result"
    }
   ],
   "source": [
    "charteve_raw = pd.read_csv('../data/chart_event_filtered.csv')\n",
    "charteve_raw.head()"
   ]
  },
  {
   "cell_type": "code",
   "execution_count": 21,
   "metadata": {
    "colab": {
     "base_uri": "https://localhost:8080/",
     "height": 492
    },
    "executionInfo": {
     "elapsed": 405,
     "status": "ok",
     "timestamp": 1651069777889,
     "user": {
      "displayName": "Jianzhang Ni",
      "userId": "18109982546966884557"
     },
     "user_tz": -60
    },
    "id": "DGeyiP4VajL3",
    "outputId": "9386757d-3209-4915-91b1-6881057fb038"
   },
   "outputs": [
    {
     "data": {
      "text/html": [
       "<div>\n",
       "<style scoped>\n",
       "    .dataframe tbody tr th:only-of-type {\n",
       "        vertical-align: middle;\n",
       "    }\n",
       "\n",
       "    .dataframe tbody tr th {\n",
       "        vertical-align: top;\n",
       "    }\n",
       "\n",
       "    .dataframe thead th {\n",
       "        text-align: right;\n",
       "    }\n",
       "</style>\n",
       "<table border=\"1\" class=\"dataframe\">\n",
       "  <thead>\n",
       "    <tr style=\"text-align: right;\">\n",
       "      <th></th>\n",
       "      <th>label</th>\n",
       "      <th>abbreviation</th>\n",
       "      <th>linksto</th>\n",
       "      <th>category</th>\n",
       "      <th>unitname</th>\n",
       "      <th>param_type</th>\n",
       "      <th>lownormalvalue</th>\n",
       "      <th>highnormalvalue</th>\n",
       "    </tr>\n",
       "    <tr>\n",
       "      <th>itemid</th>\n",
       "      <th></th>\n",
       "      <th></th>\n",
       "      <th></th>\n",
       "      <th></th>\n",
       "      <th></th>\n",
       "      <th></th>\n",
       "      <th></th>\n",
       "      <th></th>\n",
       "    </tr>\n",
       "  </thead>\n",
       "  <tbody>\n",
       "    <tr>\n",
       "      <th>220003</th>\n",
       "      <td>ICU Admission date</td>\n",
       "      <td>ICU Admission date</td>\n",
       "      <td>datetimeevents</td>\n",
       "      <td>ADT</td>\n",
       "      <td>NaN</td>\n",
       "      <td>Date and time</td>\n",
       "      <td>NaN</td>\n",
       "      <td>NaN</td>\n",
       "    </tr>\n",
       "    <tr>\n",
       "      <th>220045</th>\n",
       "      <td>Heart Rate</td>\n",
       "      <td>HR</td>\n",
       "      <td>chartevents</td>\n",
       "      <td>Routine Vital Signs</td>\n",
       "      <td>bpm</td>\n",
       "      <td>Numeric</td>\n",
       "      <td>NaN</td>\n",
       "      <td>NaN</td>\n",
       "    </tr>\n",
       "    <tr>\n",
       "      <th>220046</th>\n",
       "      <td>Heart rate Alarm - High</td>\n",
       "      <td>HR Alarm - High</td>\n",
       "      <td>chartevents</td>\n",
       "      <td>Alarms</td>\n",
       "      <td>bpm</td>\n",
       "      <td>Numeric</td>\n",
       "      <td>NaN</td>\n",
       "      <td>NaN</td>\n",
       "    </tr>\n",
       "    <tr>\n",
       "      <th>220047</th>\n",
       "      <td>Heart Rate Alarm - Low</td>\n",
       "      <td>HR Alarm - Low</td>\n",
       "      <td>chartevents</td>\n",
       "      <td>Alarms</td>\n",
       "      <td>bpm</td>\n",
       "      <td>Numeric</td>\n",
       "      <td>NaN</td>\n",
       "      <td>NaN</td>\n",
       "    </tr>\n",
       "    <tr>\n",
       "      <th>220048</th>\n",
       "      <td>Heart Rhythm</td>\n",
       "      <td>Heart Rhythm</td>\n",
       "      <td>chartevents</td>\n",
       "      <td>Routine Vital Signs</td>\n",
       "      <td>NaN</td>\n",
       "      <td>Text</td>\n",
       "      <td>NaN</td>\n",
       "      <td>NaN</td>\n",
       "    </tr>\n",
       "  </tbody>\n",
       "</table>\n",
       "</div>"
      ],
      "text/plain": [
       "                          label        abbreviation         linksto  \\\n",
       "itemid                                                                \n",
       "220003       ICU Admission date  ICU Admission date  datetimeevents   \n",
       "220045               Heart Rate                  HR     chartevents   \n",
       "220046  Heart rate Alarm - High     HR Alarm - High     chartevents   \n",
       "220047   Heart Rate Alarm - Low      HR Alarm - Low     chartevents   \n",
       "220048             Heart Rhythm        Heart Rhythm     chartevents   \n",
       "\n",
       "                   category unitname     param_type  lownormalvalue  \\\n",
       "itemid                                                                \n",
       "220003                  ADT      NaN  Date and time             NaN   \n",
       "220045  Routine Vital Signs      bpm        Numeric             NaN   \n",
       "220046               Alarms      bpm        Numeric             NaN   \n",
       "220047               Alarms      bpm        Numeric             NaN   \n",
       "220048  Routine Vital Signs      NaN           Text             NaN   \n",
       "\n",
       "        highnormalvalue  \n",
       "itemid                   \n",
       "220003              NaN  \n",
       "220045              NaN  \n",
       "220046              NaN  \n",
       "220047              NaN  \n",
       "220048              NaN  "
      ]
     },
     "execution_count": 21,
     "metadata": {},
     "output_type": "execute_result"
    }
   ],
   "source": [
    "item_names = pd.read_csv('../data/icu/d_items.csv').set_index('itemid')\n",
    "item_names.head()"
   ]
  },
  {
   "cell_type": "code",
   "execution_count": 22,
   "metadata": {
    "executionInfo": {
     "elapsed": 407,
     "status": "ok",
     "timestamp": 1651069826645,
     "user": {
      "displayName": "Jianzhang Ni",
      "userId": "18109982546966884557"
     },
     "user_tz": -60
    },
    "id": "T6nHfl1jZvgA"
   },
   "outputs": [],
   "source": [
    "item_dict = dict()\n",
    "for item_id in charteve_raw['itemid'].unique():\n",
    "    item_dict[item_id] = item_names.loc[item_id, 'abbreviation']"
   ]
  },
  {
   "cell_type": "code",
   "execution_count": 23,
   "metadata": {
    "colab": {
     "base_uri": "https://localhost:8080/",
     "height": 366
    },
    "executionInfo": {
     "elapsed": 127368,
     "status": "ok",
     "timestamp": 1651070113749,
     "user": {
      "displayName": "Jianzhang Ni",
      "userId": "18109982546966884557"
     },
     "user_tz": -60
    },
    "id": "rBtDcXATWOXj",
    "outputId": "cd14cb6c-2b4a-43c6-b3ee-8ce2f83dc578"
   },
   "outputs": [
    {
     "data": {
      "text/html": [
       "<div>\n",
       "<style scoped>\n",
       "    .dataframe tbody tr th:only-of-type {\n",
       "        vertical-align: middle;\n",
       "    }\n",
       "\n",
       "    .dataframe tbody tr th {\n",
       "        vertical-align: top;\n",
       "    }\n",
       "\n",
       "    .dataframe thead th {\n",
       "        text-align: right;\n",
       "    }\n",
       "</style>\n",
       "<table border=\"1\" class=\"dataframe\">\n",
       "  <thead>\n",
       "    <tr style=\"text-align: right;\">\n",
       "      <th></th>\n",
       "      <th>hadm_id</th>\n",
       "      <th>seq_num</th>\n",
       "      <th>icd_code</th>\n",
       "      <th>icd_version</th>\n",
       "      <th>gender</th>\n",
       "      <th>anchor_age</th>\n",
       "      <th>anchor_year</th>\n",
       "      <th>anchor_year_group</th>\n",
       "      <th>dod</th>\n",
       "      <th>stay_id</th>\n",
       "      <th>...</th>\n",
       "      <th>Verbal Response</th>\n",
       "      <th>Sodium (serum)</th>\n",
       "      <th>Chloride (serum)</th>\n",
       "      <th>Magnesium</th>\n",
       "      <th>Creatinine (serum)</th>\n",
       "      <th>PH (dipstick)</th>\n",
       "      <th>PH (Venous)</th>\n",
       "      <th>PH (Arterial)</th>\n",
       "      <th>Creatinine (whole blood)</th>\n",
       "      <th>Chloride (whole blood)</th>\n",
       "    </tr>\n",
       "    <tr>\n",
       "      <th>subject_id</th>\n",
       "      <th></th>\n",
       "      <th></th>\n",
       "      <th></th>\n",
       "      <th></th>\n",
       "      <th></th>\n",
       "      <th></th>\n",
       "      <th></th>\n",
       "      <th></th>\n",
       "      <th></th>\n",
       "      <th></th>\n",
       "      <th></th>\n",
       "      <th></th>\n",
       "      <th></th>\n",
       "      <th></th>\n",
       "      <th></th>\n",
       "      <th></th>\n",
       "      <th></th>\n",
       "      <th></th>\n",
       "      <th></th>\n",
       "      <th></th>\n",
       "      <th></th>\n",
       "    </tr>\n",
       "  </thead>\n",
       "  <tbody>\n",
       "    <tr>\n",
       "      <th>12116269</th>\n",
       "      <td>24214849</td>\n",
       "      <td>2</td>\n",
       "      <td>431</td>\n",
       "      <td>9</td>\n",
       "      <td>M</td>\n",
       "      <td>66</td>\n",
       "      <td>2166</td>\n",
       "      <td>2008 - 2010</td>\n",
       "      <td>0</td>\n",
       "      <td>NaN</td>\n",
       "      <td>...</td>\n",
       "      <td>NaN</td>\n",
       "      <td>NaN</td>\n",
       "      <td>NaN</td>\n",
       "      <td>NaN</td>\n",
       "      <td>NaN</td>\n",
       "      <td>NaN</td>\n",
       "      <td>NaN</td>\n",
       "      <td>NaN</td>\n",
       "      <td>NaN</td>\n",
       "      <td>NaN</td>\n",
       "    </tr>\n",
       "    <tr>\n",
       "      <th>12155595</th>\n",
       "      <td>26672436</td>\n",
       "      <td>2</td>\n",
       "      <td>431</td>\n",
       "      <td>9</td>\n",
       "      <td>F</td>\n",
       "      <td>52</td>\n",
       "      <td>2168</td>\n",
       "      <td>2008 - 2010</td>\n",
       "      <td>0</td>\n",
       "      <td>NaN</td>\n",
       "      <td>...</td>\n",
       "      <td>NaN</td>\n",
       "      <td>NaN</td>\n",
       "      <td>NaN</td>\n",
       "      <td>NaN</td>\n",
       "      <td>NaN</td>\n",
       "      <td>NaN</td>\n",
       "      <td>NaN</td>\n",
       "      <td>NaN</td>\n",
       "      <td>NaN</td>\n",
       "      <td>NaN</td>\n",
       "    </tr>\n",
       "    <tr>\n",
       "      <th>19620109</th>\n",
       "      <td>26497452</td>\n",
       "      <td>2</td>\n",
       "      <td>431</td>\n",
       "      <td>9</td>\n",
       "      <td>F</td>\n",
       "      <td>66</td>\n",
       "      <td>2128</td>\n",
       "      <td>2008 - 2010</td>\n",
       "      <td>0</td>\n",
       "      <td>36855170.0</td>\n",
       "      <td>...</td>\n",
       "      <td>NaN</td>\n",
       "      <td>NaN</td>\n",
       "      <td>NaN</td>\n",
       "      <td>NaN</td>\n",
       "      <td>NaN</td>\n",
       "      <td>NaN</td>\n",
       "      <td>NaN</td>\n",
       "      <td>NaN</td>\n",
       "      <td>NaN</td>\n",
       "      <td>NaN</td>\n",
       "    </tr>\n",
       "    <tr>\n",
       "      <th>19330004</th>\n",
       "      <td>20802265</td>\n",
       "      <td>1</td>\n",
       "      <td>431</td>\n",
       "      <td>9</td>\n",
       "      <td>M</td>\n",
       "      <td>52</td>\n",
       "      <td>2187</td>\n",
       "      <td>2008 - 2010</td>\n",
       "      <td>0</td>\n",
       "      <td>38965565.0</td>\n",
       "      <td>...</td>\n",
       "      <td>NaN</td>\n",
       "      <td>NaN</td>\n",
       "      <td>NaN</td>\n",
       "      <td>NaN</td>\n",
       "      <td>NaN</td>\n",
       "      <td>NaN</td>\n",
       "      <td>NaN</td>\n",
       "      <td>NaN</td>\n",
       "      <td>NaN</td>\n",
       "      <td>NaN</td>\n",
       "    </tr>\n",
       "    <tr>\n",
       "      <th>18414729</th>\n",
       "      <td>22609366</td>\n",
       "      <td>2</td>\n",
       "      <td>431</td>\n",
       "      <td>9</td>\n",
       "      <td>F</td>\n",
       "      <td>60</td>\n",
       "      <td>2152</td>\n",
       "      <td>2008 - 2010</td>\n",
       "      <td>0</td>\n",
       "      <td>NaN</td>\n",
       "      <td>...</td>\n",
       "      <td>NaN</td>\n",
       "      <td>NaN</td>\n",
       "      <td>NaN</td>\n",
       "      <td>NaN</td>\n",
       "      <td>NaN</td>\n",
       "      <td>NaN</td>\n",
       "      <td>NaN</td>\n",
       "      <td>NaN</td>\n",
       "      <td>NaN</td>\n",
       "      <td>NaN</td>\n",
       "    </tr>\n",
       "  </tbody>\n",
       "</table>\n",
       "<p>5 rows × 27 columns</p>\n",
       "</div>"
      ],
      "text/plain": [
       "             hadm_id  seq_num icd_code  icd_version gender  anchor_age  \\\n",
       "subject_id                                                               \n",
       "12116269    24214849        2      431            9      M          66   \n",
       "12155595    26672436        2      431            9      F          52   \n",
       "19620109    26497452        2      431            9      F          66   \n",
       "19330004    20802265        1      431            9      M          52   \n",
       "18414729    22609366        2      431            9      F          60   \n",
       "\n",
       "            anchor_year anchor_year_group dod     stay_id  ...  \\\n",
       "subject_id                                                 ...   \n",
       "12116269           2166       2008 - 2010   0         NaN  ...   \n",
       "12155595           2168       2008 - 2010   0         NaN  ...   \n",
       "19620109           2128       2008 - 2010   0  36855170.0  ...   \n",
       "19330004           2187       2008 - 2010   0  38965565.0  ...   \n",
       "18414729           2152       2008 - 2010   0         NaN  ...   \n",
       "\n",
       "           Verbal Response  Sodium (serum)  Chloride (serum)  Magnesium  \\\n",
       "subject_id                                                                \n",
       "12116269               NaN             NaN               NaN        NaN   \n",
       "12155595               NaN             NaN               NaN        NaN   \n",
       "19620109               NaN             NaN               NaN        NaN   \n",
       "19330004               NaN             NaN               NaN        NaN   \n",
       "18414729               NaN             NaN               NaN        NaN   \n",
       "\n",
       "            Creatinine (serum)  PH (dipstick)  PH (Venous)  PH (Arterial)  \\\n",
       "subject_id                                                                  \n",
       "12116269                   NaN            NaN          NaN            NaN   \n",
       "12155595                   NaN            NaN          NaN            NaN   \n",
       "19620109                   NaN            NaN          NaN            NaN   \n",
       "19330004                   NaN            NaN          NaN            NaN   \n",
       "18414729                   NaN            NaN          NaN            NaN   \n",
       "\n",
       "            Creatinine (whole blood)  Chloride (whole blood)  \n",
       "subject_id                                                    \n",
       "12116269                         NaN                     NaN  \n",
       "12155595                         NaN                     NaN  \n",
       "19620109                         NaN                     NaN  \n",
       "19330004                         NaN                     NaN  \n",
       "18414729                         NaN                     NaN  \n",
       "\n",
       "[5 rows x 27 columns]"
      ]
     },
     "execution_count": 23,
     "metadata": {},
     "output_type": "execute_result"
    }
   ],
   "source": [
    "# This command takes a few minutes to run.\n",
    "for i in range(charteve_raw.shape[0]):\n",
    "    entry = charteve_raw.iloc[i,:]\n",
    "    sub_id, itemid = entry[['subject_id', 'itemid']]\n",
    "    item_names = item_dict[itemid]\n",
    "    final.loc[sub_id, item_names] = entry['valuenum']\n",
    "final.head() "
   ]
  },
  {
   "cell_type": "code",
   "execution_count": 24,
   "metadata": {
    "colab": {
     "base_uri": "https://localhost:8080/",
     "height": 382
    },
    "executionInfo": {
     "elapsed": 377,
     "status": "ok",
     "timestamp": 1651072573151,
     "user": {
      "displayName": "Jianzhang Ni",
      "userId": "18109982546966884557"
     },
     "user_tz": -60
    },
    "id": "3UxRkAb3hyM2",
    "outputId": "a65fa23c-5beb-4720-b74a-d06f2a13b7b0"
   },
   "outputs": [
    {
     "data": {
      "text/html": [
       "<div>\n",
       "<style scoped>\n",
       "    .dataframe tbody tr th:only-of-type {\n",
       "        vertical-align: middle;\n",
       "    }\n",
       "\n",
       "    .dataframe tbody tr th {\n",
       "        vertical-align: top;\n",
       "    }\n",
       "\n",
       "    .dataframe thead th {\n",
       "        text-align: right;\n",
       "    }\n",
       "</style>\n",
       "<table border=\"1\" class=\"dataframe\">\n",
       "  <thead>\n",
       "    <tr style=\"text-align: right;\">\n",
       "      <th></th>\n",
       "      <th>hadm_id</th>\n",
       "      <th>seq_num</th>\n",
       "      <th>icd_version</th>\n",
       "      <th>anchor_age</th>\n",
       "      <th>anchor_year</th>\n",
       "      <th>dod</th>\n",
       "      <th>stay_id</th>\n",
       "      <th>temperature</th>\n",
       "      <th>heartrate</th>\n",
       "      <th>resprate</th>\n",
       "      <th>o2sat</th>\n",
       "      <th>sbp</th>\n",
       "      <th>dbp</th>\n",
       "      <th>Verbal Response</th>\n",
       "      <th>Sodium (serum)</th>\n",
       "      <th>Chloride (serum)</th>\n",
       "      <th>Magnesium</th>\n",
       "      <th>Creatinine (serum)</th>\n",
       "    </tr>\n",
       "  </thead>\n",
       "  <tbody>\n",
       "    <tr>\n",
       "      <th>count</th>\n",
       "      <td>1.032000e+03</td>\n",
       "      <td>1032.000000</td>\n",
       "      <td>1032.000000</td>\n",
       "      <td>1032.000000</td>\n",
       "      <td>1032.000000</td>\n",
       "      <td>1032.000000</td>\n",
       "      <td>1.032000e+03</td>\n",
       "      <td>1032.000000</td>\n",
       "      <td>1032.000000</td>\n",
       "      <td>1032.000000</td>\n",
       "      <td>1032.000000</td>\n",
       "      <td>1032.000000</td>\n",
       "      <td>1032.000000</td>\n",
       "      <td>1032.000000</td>\n",
       "      <td>1032.000000</td>\n",
       "      <td>1032.000000</td>\n",
       "      <td>1032.000000</td>\n",
       "      <td>1032.000000</td>\n",
       "    </tr>\n",
       "    <tr>\n",
       "      <th>mean</th>\n",
       "      <td>2.494251e+07</td>\n",
       "      <td>3.006783</td>\n",
       "      <td>9.972868</td>\n",
       "      <td>67.600775</td>\n",
       "      <td>2151.091085</td>\n",
       "      <td>0.230620</td>\n",
       "      <td>3.505354e+07</td>\n",
       "      <td>97.254661</td>\n",
       "      <td>80.053295</td>\n",
       "      <td>18.133721</td>\n",
       "      <td>97.504312</td>\n",
       "      <td>130.553527</td>\n",
       "      <td>71.011008</td>\n",
       "      <td>3.290698</td>\n",
       "      <td>141.391473</td>\n",
       "      <td>104.860465</td>\n",
       "      <td>2.067539</td>\n",
       "      <td>1.095058</td>\n",
       "    </tr>\n",
       "    <tr>\n",
       "      <th>std</th>\n",
       "      <td>2.827824e+06</td>\n",
       "      <td>4.116037</td>\n",
       "      <td>0.162546</td>\n",
       "      <td>14.927744</td>\n",
       "      <td>23.458559</td>\n",
       "      <td>0.421434</td>\n",
       "      <td>2.922054e+06</td>\n",
       "      <td>6.473051</td>\n",
       "      <td>16.569990</td>\n",
       "      <td>3.394916</td>\n",
       "      <td>3.619704</td>\n",
       "      <td>18.580383</td>\n",
       "      <td>13.725766</td>\n",
       "      <td>1.754250</td>\n",
       "      <td>5.719082</td>\n",
       "      <td>6.414695</td>\n",
       "      <td>0.300473</td>\n",
       "      <td>1.006297</td>\n",
       "    </tr>\n",
       "    <tr>\n",
       "      <th>min</th>\n",
       "      <td>2.000251e+07</td>\n",
       "      <td>1.000000</td>\n",
       "      <td>9.000000</td>\n",
       "      <td>19.000000</td>\n",
       "      <td>2110.000000</td>\n",
       "      <td>0.000000</td>\n",
       "      <td>3.000467e+07</td>\n",
       "      <td>32.400000</td>\n",
       "      <td>7.000000</td>\n",
       "      <td>4.000000</td>\n",
       "      <td>2.000000</td>\n",
       "      <td>31.000000</td>\n",
       "      <td>23.000000</td>\n",
       "      <td>1.000000</td>\n",
       "      <td>116.000000</td>\n",
       "      <td>84.000000</td>\n",
       "      <td>0.400000</td>\n",
       "      <td>0.200000</td>\n",
       "    </tr>\n",
       "    <tr>\n",
       "      <th>25%</th>\n",
       "      <td>2.256903e+07</td>\n",
       "      <td>1.000000</td>\n",
       "      <td>10.000000</td>\n",
       "      <td>59.000000</td>\n",
       "      <td>2130.750000</td>\n",
       "      <td>0.000000</td>\n",
       "      <td>3.256712e+07</td>\n",
       "      <td>97.470000</td>\n",
       "      <td>69.000000</td>\n",
       "      <td>16.000000</td>\n",
       "      <td>96.000000</td>\n",
       "      <td>118.000000</td>\n",
       "      <td>62.000000</td>\n",
       "      <td>1.000000</td>\n",
       "      <td>138.000000</td>\n",
       "      <td>101.000000</td>\n",
       "      <td>1.900000</td>\n",
       "      <td>0.600000</td>\n",
       "    </tr>\n",
       "    <tr>\n",
       "      <th>50%</th>\n",
       "      <td>2.490807e+07</td>\n",
       "      <td>2.000000</td>\n",
       "      <td>10.000000</td>\n",
       "      <td>69.000000</td>\n",
       "      <td>2150.000000</td>\n",
       "      <td>0.000000</td>\n",
       "      <td>3.492956e+07</td>\n",
       "      <td>97.600000</td>\n",
       "      <td>80.000000</td>\n",
       "      <td>18.000000</td>\n",
       "      <td>98.000000</td>\n",
       "      <td>131.500000</td>\n",
       "      <td>71.000000</td>\n",
       "      <td>4.000000</td>\n",
       "      <td>141.000000</td>\n",
       "      <td>104.000000</td>\n",
       "      <td>2.000000</td>\n",
       "      <td>0.800000</td>\n",
       "    </tr>\n",
       "    <tr>\n",
       "      <th>75%</th>\n",
       "      <td>2.720125e+07</td>\n",
       "      <td>3.000000</td>\n",
       "      <td>10.000000</td>\n",
       "      <td>79.000000</td>\n",
       "      <td>2172.000000</td>\n",
       "      <td>0.000000</td>\n",
       "      <td>3.769880e+07</td>\n",
       "      <td>98.200000</td>\n",
       "      <td>89.000000</td>\n",
       "      <td>19.000000</td>\n",
       "      <td>100.000000</td>\n",
       "      <td>141.000000</td>\n",
       "      <td>78.000000</td>\n",
       "      <td>5.000000</td>\n",
       "      <td>144.000000</td>\n",
       "      <td>108.000000</td>\n",
       "      <td>2.200000</td>\n",
       "      <td>1.100000</td>\n",
       "    </tr>\n",
       "    <tr>\n",
       "      <th>max</th>\n",
       "      <td>2.999962e+07</td>\n",
       "      <td>38.000000</td>\n",
       "      <td>10.000000</td>\n",
       "      <td>91.000000</td>\n",
       "      <td>2205.000000</td>\n",
       "      <td>1.000000</td>\n",
       "      <td>3.998928e+07</td>\n",
       "      <td>105.000000</td>\n",
       "      <td>171.000000</td>\n",
       "      <td>44.000000</td>\n",
       "      <td>100.000000</td>\n",
       "      <td>206.000000</td>\n",
       "      <td>145.000000</td>\n",
       "      <td>5.000000</td>\n",
       "      <td>171.000000</td>\n",
       "      <td>140.000000</td>\n",
       "      <td>4.000000</td>\n",
       "      <td>12.800000</td>\n",
       "    </tr>\n",
       "  </tbody>\n",
       "</table>\n",
       "</div>"
      ],
      "text/plain": [
       "            hadm_id      seq_num  icd_version   anchor_age  anchor_year  \\\n",
       "count  1.032000e+03  1032.000000  1032.000000  1032.000000  1032.000000   \n",
       "mean   2.494251e+07     3.006783     9.972868    67.600775  2151.091085   \n",
       "std    2.827824e+06     4.116037     0.162546    14.927744    23.458559   \n",
       "min    2.000251e+07     1.000000     9.000000    19.000000  2110.000000   \n",
       "25%    2.256903e+07     1.000000    10.000000    59.000000  2130.750000   \n",
       "50%    2.490807e+07     2.000000    10.000000    69.000000  2150.000000   \n",
       "75%    2.720125e+07     3.000000    10.000000    79.000000  2172.000000   \n",
       "max    2.999962e+07    38.000000    10.000000    91.000000  2205.000000   \n",
       "\n",
       "               dod       stay_id  temperature    heartrate     resprate  \\\n",
       "count  1032.000000  1.032000e+03  1032.000000  1032.000000  1032.000000   \n",
       "mean      0.230620  3.505354e+07    97.254661    80.053295    18.133721   \n",
       "std       0.421434  2.922054e+06     6.473051    16.569990     3.394916   \n",
       "min       0.000000  3.000467e+07    32.400000     7.000000     4.000000   \n",
       "25%       0.000000  3.256712e+07    97.470000    69.000000    16.000000   \n",
       "50%       0.000000  3.492956e+07    97.600000    80.000000    18.000000   \n",
       "75%       0.000000  3.769880e+07    98.200000    89.000000    19.000000   \n",
       "max       1.000000  3.998928e+07   105.000000   171.000000    44.000000   \n",
       "\n",
       "             o2sat          sbp          dbp  Verbal Response  Sodium (serum)  \\\n",
       "count  1032.000000  1032.000000  1032.000000      1032.000000     1032.000000   \n",
       "mean     97.504312   130.553527    71.011008         3.290698      141.391473   \n",
       "std       3.619704    18.580383    13.725766         1.754250        5.719082   \n",
       "min       2.000000    31.000000    23.000000         1.000000      116.000000   \n",
       "25%      96.000000   118.000000    62.000000         1.000000      138.000000   \n",
       "50%      98.000000   131.500000    71.000000         4.000000      141.000000   \n",
       "75%     100.000000   141.000000    78.000000         5.000000      144.000000   \n",
       "max     100.000000   206.000000   145.000000         5.000000      171.000000   \n",
       "\n",
       "       Chloride (serum)    Magnesium  Creatinine (serum)  \n",
       "count       1032.000000  1032.000000         1032.000000  \n",
       "mean         104.860465     2.067539            1.095058  \n",
       "std            6.414695     0.300473            1.006297  \n",
       "min           84.000000     0.400000            0.200000  \n",
       "25%          101.000000     1.900000            0.600000  \n",
       "50%          104.000000     2.000000            0.800000  \n",
       "75%          108.000000     2.200000            1.100000  \n",
       "max          140.000000     4.000000           12.800000  "
      ]
     },
     "execution_count": 24,
     "metadata": {},
     "output_type": "execute_result"
    }
   ],
   "source": [
    "test = final.iloc[:,:-5].dropna(how='any',axis=0)\n",
    "test[['dod']] = test[['dod']].astype('int')\n",
    "test.describe()"
   ]
  },
  {
   "cell_type": "code",
   "execution_count": 25,
   "metadata": {
    "colab": {
     "base_uri": "https://localhost:8080/",
     "height": 359
    },
    "executionInfo": {
     "elapsed": 395,
     "status": "ok",
     "timestamp": 1651073728500,
     "user": {
      "displayName": "Jianzhang Ni",
      "userId": "18109982546966884557"
     },
     "user_tz": -60
    },
    "id": "oG6zLZ6doO7K",
    "outputId": "1682f5d9-5059-4c51-aae6-cdbc2b07bac0"
   },
   "outputs": [
    {
     "data": {
      "image/png": "[encoded data removed]",
      "text/plain": [
       "<Figure size 288x288 with 1 Axes>"
      ]
     },
     "metadata": {
      "needs_background": "light"
     },
     "output_type": "display_data"
    }
   ],
   "source": [
    "g = sns.catplot(x='dod',y='Sodium (serum)',data=test, kind=\"box\",\n",
    "                height=4, aspect=1);"
   ]
  },
  {
   "cell_type": "markdown",
   "metadata": {
    "id": "g2qtZfJYki9-"
   },
   "source": [
    "# Description"
   ]
  },
  {
   "cell_type": "markdown",
   "metadata": {
    "id": "9qI5EhAFsFN-"
   },
   "source": [
    "# Logistic Regression"
   ]
  },
  {
   "cell_type": "code",
   "execution_count": 27,
   "metadata": {
    "colab": {
     "base_uri": "https://localhost:8080/"
    },
    "executionInfo": {
     "elapsed": 333,
     "status": "ok",
     "timestamp": 1651074590694,
     "user": {
      "displayName": "Jianzhang Ni",
      "userId": "18109982546966884557"
     },
     "user_tz": -60
    },
    "id": "BP0JQcUntmfh",
    "outputId": "416401f9-afb2-427b-dcc3-16166401340c"
   },
   "outputs": [
    {
     "data": {
      "text/plain": [
       "0.7693798449612403"
      ]
     },
     "execution_count": 27,
     "metadata": {},
     "output_type": "execute_result"
    }
   ],
   "source": [
    "test[test.dod==0].shape[0]/test.shape[0]"
   ]
  },
  {
   "cell_type": "code",
   "execution_count": 28,
   "metadata": {
    "colab": {
     "base_uri": "https://localhost:8080/"
    },
    "executionInfo": {
     "elapsed": 1011,
     "status": "ok",
     "timestamp": 1651074488792,
     "user": {
      "displayName": "Jianzhang Ni",
      "userId": "18109982546966884557"
     },
     "user_tz": -60
    },
    "id": "cs4KjUPisE9c",
    "outputId": "e110a34c-df96-45d8-cfd1-909ef0688d09"
   },
   "outputs": [
    {
     "data": {
      "text/plain": [
       "0.8236434108527132"
      ]
     },
     "execution_count": 28,
     "metadata": {},
     "output_type": "execute_result"
    }
   ],
   "source": [
    "from sklearn.linear_model import LogisticRegression\n",
    "X = test[['temperature', 'heartrate', 'resprate', 'o2sat', 'sbp', 'dbp',\n",
    "       'Verbal Response', 'Sodium (serum)', 'Chloride (serum)', 'Magnesium',\n",
    "       'Creatinine (serum)']]\n",
    "y = test['dod']\n",
    "clf = LogisticRegression(random_state=0,max_iter=1000).fit(X, y)\n",
    "\n",
    "clf.score(X, y)"
   ]
  },
  {
   "cell_type": "code",
   "execution_count": 35,
   "metadata": {},
   "outputs": [],
   "source": [
    "from sklearn.neighbors import NearestNeighbors"
   ]
  },
  {
   "cell_type": "code",
   "execution_count": 33,
   "metadata": {},
   "outputs": [],
   "source": [
    "\n",
    "def MYknn(test_object, training_object, training_object_target, K):\n",
    "    predictlist = []\n",
    "    for newpoint in test_object:\n",
    "        dataSetSize = training_object.shape[0]\n",
    "        diffMat= np.tile(newpoint, (dataSetSize, 1)) - training_object\n",
    "        sqDistances = (diffMat**2).sum(axis=1)\n",
    "        distances = sqDistances ** 0.5\n",
    "        sortedDistIndicies = distances.argsort()\n",
    "        \n",
    "        return sortedDistIndicies\n",
    "        classCount = {}\n",
    "        for i in range(K):\n",
    "            voteIlabel = training_object_target[sortedDistIndicies[i]]\n",
    "            classCount[voteIlabel] = classCount.get(voteIlabel, 0) + 1  #Get the value of key from the map and return 0 without key\n",
    "            sortedClassCount = sorted(classCount.items(), key=operator.itemgetter(1), reverse=True)\n",
    "            print(sortedClassCount)\n",
    "            print(type(sortedClassCount))\n",
    "        predictlist.append(sortedClassCount[0][0])\n",
    "        \n",
    "        return predictlist"
   ]
  },
  {
   "cell_type": "code",
   "execution_count": 34,
   "metadata": {},
   "outputs": [
    {
     "data": {
      "text/plain": [
       "array([239, 308, 715, 107, 510,  94, 625, 751, 225, 709,   9, 106, 700,\n",
       "        85, 591, 532, 304, 809, 637,  42, 452, 630, 156, 718, 422, 504,\n",
       "        56, 549, 756, 431, 334, 574, 523,  30, 375, 567, 515, 426, 295,\n",
       "        29, 792, 692, 507, 410, 627, 117, 439, 421, 192,  35, 216, 312,\n",
       "       624, 698, 105,  70, 787, 564, 382, 705, 373, 220, 474, 740, 490,\n",
       "        99, 427, 335, 506, 123, 575, 233, 165, 413, 675, 663, 282, 246,\n",
       "       450, 581, 607, 807, 455, 736, 354, 180, 671, 386, 801, 350, 258,\n",
       "       260, 273, 267,   7, 609, 425, 361, 389, 485, 131, 822, 726, 275,\n",
       "        17, 696, 456, 769, 428, 493, 235, 160,  96, 540,  11, 301, 226,\n",
       "       694, 701, 746,  49, 566, 660, 586, 217, 658, 232, 665, 475, 604,\n",
       "        28,  44, 765, 785, 632,  82, 559, 569, 405, 416, 210, 277, 699,\n",
       "       554, 548, 576, 790, 172, 483, 429, 502, 325, 727, 327, 438, 102,\n",
       "       702, 621, 340,  68, 808, 221, 777,  21, 103, 362, 768,  69, 596,\n",
       "       794, 593, 104, 654, 254, 813, 155,  13,  38, 496, 323,  18, 390,\n",
       "       100, 528, 238, 231, 616, 612, 129, 227, 228, 404, 717, 636, 365,\n",
       "       463, 433, 818, 597, 209,  45, 484,  26, 537, 445, 686, 368, 187,\n",
       "       177, 371, 200, 737, 201, 189, 204,  50, 108, 290, 509, 631,  86,\n",
       "       266, 638,  73, 635, 197,  19, 257, 142, 244, 533, 138, 562, 185,\n",
       "        57, 806, 725, 341, 330, 719, 181, 520, 328, 649, 194, 617,  81,\n",
       "       598, 754, 339, 377, 577, 150, 137, 551, 394, 650, 366, 670, 276,\n",
       "       176, 500,  64, 144, 300, 338, 782, 125, 571, 491, 318, 218, 805,\n",
       "       552, 757, 101, 348, 797,  55, 229, 110, 203, 271,   4, 162, 305,\n",
       "       349, 306, 272, 154, 622, 193, 512, 522, 749, 332, 237, 728, 345,\n",
       "       716, 383, 819, 234, 476, 378, 230,  51, 461,  40, 242, 364, 529,\n",
       "       249, 355, 530, 667, 372, 573, 120, 760, 503, 744, 171, 270, 783,\n",
       "       319, 211, 333, 479, 444, 767, 291, 535,  37, 411, 494, 761, 689,\n",
       "       680, 478, 505, 132, 443, 274, 780, 708,  10, 553,  46, 219, 447,\n",
       "         2, 261, 356, 713, 685, 462, 729, 676, 723, 480,  20, 620,  53,\n",
       "       316, 289, 432, 151, 513, 113, 214, 122, 420, 648, 645, 488, 543,\n",
       "       542, 498,  12, 683, 795, 634, 133, 357, 647, 816, 495, 451, 664,\n",
       "       293,  32, 206, 779, 739, 292, 409, 821, 317, 516, 817, 578, 190,\n",
       "       482, 674, 363,  90, 436,  39, 644, 536, 791,  87, 146,  27, 470,\n",
       "       815,  59, 247, 464,  77, 697, 418, 166, 517, 286, 360, 454, 468,\n",
       "         5, 525, 252,  80, 358, 731, 682,  78, 322, 174, 406, 655, 149,\n",
       "       414, 662, 205, 568, 393,  66, 381, 677, 163, 752,  83,  48,  41,\n",
       "       514, 803, 710, 473, 802,  76, 173, 315, 374, 471, 241, 135, 307,\n",
       "        61, 688, 321, 212, 353, 167, 121, 721, 599, 669, 605, 766, 563,\n",
       "       326,  60,  34, 812, 202, 297, 641, 555, 786, 796, 489, 687, 550,\n",
       "       486, 457, 268, 714,  72, 601, 143, 296, 539, 590, 755, 743, 497,\n",
       "       679, 642, 284, 175,  91, 207, 619, 747, 465, 579, 314, 800, 467,\n",
       "       126, 199, 804, 811, 759, 278, 775, 351, 789, 253, 653, 585, 762,\n",
       "       610,  89, 329, 603, 391, 195,   0, 538, 259, 732, 384, 283,  22,\n",
       "       311, 407, 256, 508, 764, 392,  31, 116, 262, 735,  43, 707, 824,\n",
       "       690, 127,  74, 408, 251, 798, 255,  23, 424,  52, 772, 499,  58,\n",
       "       788,  98, 695, 449,  84, 313,  88, 595, 347, 263, 178, 753, 643,\n",
       "        67, 298,  47, 388, 724, 730, 561, 198, 519, 722, 309, 481, 140,\n",
       "       130,   1, 583, 681, 370, 814, 668, 501, 186, 376, 703, 570, 419,\n",
       "       344,   8, 115,  15, 208, 750, 184, 672,  14, 810, 720, 434, 222,\n",
       "       423, 459, 572, 299, 397, 666, 395, 430,  62, 623,   6, 615, 526,\n",
       "       524, 279, 477, 448, 182, 793, 153, 196,  71, 600, 823, 111, 544,\n",
       "       770, 170, 745, 541, 706, 281, 734, 288, 602, 359, 511, 614, 285,\n",
       "       118, 441, 352, 521, 302, 628, 733,  24, 191, 784, 437,  93, 403,\n",
       "       582, 442, 147, 387, 343,  63, 168,  25, 781, 646, 401,  92, 159,\n",
       "       611, 412, 369, 152, 324, 399, 711, 534,  95,  75,  54, 269, 584,\n",
       "       640, 657, 440, 245,  65, 320, 446, 337, 248, 518, 741,  97, 158,\n",
       "       633, 136, 240, 693, 236, 778, 613, 460, 556, 472,  79, 265, 629,\n",
       "       139, 223, 774, 458, 287,  36, 545, 758, 560, 346, 179, 415, 652,\n",
       "       342, 589, 738, 557, 128, 546, 453, 157, 661, 417, 691, 771, 820,\n",
       "       161, 109, 487, 547, 188, 592, 331, 799, 469, 303, 224,   3, 606,\n",
       "       400, 773, 704, 639, 148, 112, 367, 379, 280, 565, 119, 134, 164,\n",
       "       213, 531, 466, 250, 712, 336, 618, 396, 659, 380, 183, 678, 684,\n",
       "       310, 124, 587, 215, 492,  16, 169, 264, 580, 558, 776, 763, 588,\n",
       "       243, 402, 435, 141, 742, 626, 294, 673, 398,  33, 385, 527, 594,\n",
       "       114, 748, 145, 651, 656, 608])"
      ]
     },
     "execution_count": 34,
     "metadata": {},
     "output_type": "execute_result"
    }
   ],
   "source": [
    "MYknn( X_test_std, X_train_std, Y_train,10)"
   ]
  },
  {
   "cell_type": "code",
   "execution_count": 30,
   "metadata": {
    "jp-MarkdownHeadingCollapsed": true,
    "tags": []
   },
   "outputs": [
    {
     "ename": "KeyError",
     "evalue": "239",
     "output_type": "error",
     "traceback": [
      "\u001b[0;31m---------------------------------------------------------------------------\u001b[0m",
      "\u001b[0;31mKeyError\u001b[0m                                  Traceback (most recent call last)",
      "\u001b[0;32m~/anaconda3/lib/python3.8/site-packages/pandas/core/indexes/base.py\u001b[0m in \u001b[0;36mget_loc\u001b[0;34m(self, key, method, tolerance)\u001b[0m\n\u001b[1;32m   3360\u001b[0m             \u001b[0;32mtry\u001b[0m\u001b[0;34m:\u001b[0m\u001b[0;34m\u001b[0m\u001b[0;34m\u001b[0m\u001b[0m\n\u001b[0;32m-> 3361\u001b[0;31m                 \u001b[0;32mreturn\u001b[0m \u001b[0mself\u001b[0m\u001b[0;34m.\u001b[0m\u001b[0m_engine\u001b[0m\u001b[0;34m.\u001b[0m\u001b[0mget_loc\u001b[0m\u001b[0;34m(\u001b[0m\u001b[0mcasted_key\u001b[0m\u001b[0;34m)\u001b[0m\u001b[0;34m\u001b[0m\u001b[0;34m\u001b[0m\u001b[0m\n\u001b[0m\u001b[1;32m   3362\u001b[0m             \u001b[0;32mexcept\u001b[0m \u001b[0mKeyError\u001b[0m \u001b[0;32mas\u001b[0m \u001b[0merr\u001b[0m\u001b[0;34m:\u001b[0m\u001b[0;34m\u001b[0m\u001b[0;34m\u001b[0m\u001b[0m\n",
      "\u001b[0;32m~/anaconda3/lib/python3.8/site-packages/pandas/_libs/index.pyx\u001b[0m in \u001b[0;36mpandas._libs.index.IndexEngine.get_loc\u001b[0;34m()\u001b[0m\n",
      "\u001b[0;32m~/anaconda3/lib/python3.8/site-packages/pandas/_libs/index.pyx\u001b[0m in \u001b[0;36mpandas._libs.index.IndexEngine.get_loc\u001b[0;34m()\u001b[0m\n",
      "\u001b[0;32mpandas/_libs/hashtable_class_helper.pxi\u001b[0m in \u001b[0;36mpandas._libs.hashtable.Int64HashTable.get_item\u001b[0;34m()\u001b[0m\n",
      "\u001b[0;32mpandas/_libs/hashtable_class_helper.pxi\u001b[0m in \u001b[0;36mpandas._libs.hashtable.Int64HashTable.get_item\u001b[0;34m()\u001b[0m\n",
      "\u001b[0;31mKeyError\u001b[0m: 239",
      "\nThe above exception was the direct cause of the following exception:\n",
      "\u001b[0;31mKeyError\u001b[0m                                  Traceback (most recent call last)",
      "\u001b[0;32m/tmp/ipykernel_173318/2066570289.py\u001b[0m in \u001b[0;36m<module>\u001b[0;34m\u001b[0m\n\u001b[1;32m     10\u001b[0m \u001b[0mX_train_std\u001b[0m\u001b[0;34m=\u001b[0m\u001b[0mstd\u001b[0m\u001b[0;34m.\u001b[0m\u001b[0mfit_transform\u001b[0m\u001b[0;34m(\u001b[0m\u001b[0mX_train\u001b[0m\u001b[0;34m)\u001b[0m\u001b[0;34m\u001b[0m\u001b[0;34m\u001b[0m\u001b[0m\n\u001b[1;32m     11\u001b[0m \u001b[0mX_test_std\u001b[0m\u001b[0;34m=\u001b[0m\u001b[0mstd\u001b[0m\u001b[0;34m.\u001b[0m\u001b[0mfit_transform\u001b[0m\u001b[0;34m(\u001b[0m\u001b[0mX_test\u001b[0m\u001b[0;34m)\u001b[0m\u001b[0;34m\u001b[0m\u001b[0;34m\u001b[0m\u001b[0m\n\u001b[0;32m---> 12\u001b[0;31m \u001b[0mMy_knncomper_difftest\u001b[0m\u001b[0;34m(\u001b[0m\u001b[0;36m10\u001b[0m\u001b[0;34m,\u001b[0m \u001b[0mX_train_std\u001b[0m\u001b[0;34m,\u001b[0m \u001b[0mX_test_std\u001b[0m\u001b[0;34m,\u001b[0m \u001b[0mY_train\u001b[0m\u001b[0;34m,\u001b[0m \u001b[0mY_test\u001b[0m\u001b[0;34m)\u001b[0m\u001b[0;34m\u001b[0m\u001b[0;34m\u001b[0m\u001b[0m\n\u001b[0m",
      "\u001b[0;32m~/DS_MIMIC/analysis/DS_MIMIC_knn.py\u001b[0m in \u001b[0;36mMy_knncomper_difftest\u001b[0;34m(k_max, X_train_std, X_test_std, Y_train, Y_test)\u001b[0m\n\u001b[1;32m     21\u001b[0m         \u001b[0mtest_predict_score\u001b[0m\u001b[0;34m=\u001b[0m\u001b[0;36m0\u001b[0m\u001b[0;34m\u001b[0m\u001b[0;34m\u001b[0m\u001b[0m\n\u001b[1;32m     22\u001b[0m         \u001b[0mrightnumber\u001b[0m\u001b[0;34m=\u001b[0m\u001b[0;36m0\u001b[0m\u001b[0;34m\u001b[0m\u001b[0;34m\u001b[0m\u001b[0m\n\u001b[0;32m---> 23\u001b[0;31m         \u001b[0mpredictlist\u001b[0m \u001b[0;34m=\u001b[0m\u001b[0mMYknn\u001b[0m\u001b[0;34m(\u001b[0m\u001b[0mX_test_std\u001b[0m\u001b[0;34m,\u001b[0m \u001b[0mX_train_std\u001b[0m\u001b[0;34m,\u001b[0m \u001b[0mY_train\u001b[0m\u001b[0;34m,\u001b[0m \u001b[0mk\u001b[0m\u001b[0;34m)\u001b[0m\u001b[0;34m\u001b[0m\u001b[0;34m\u001b[0m\u001b[0m\n\u001b[0m\u001b[1;32m     24\u001b[0m         \u001b[0;32mfor\u001b[0m \u001b[0mm\u001b[0m \u001b[0;32min\u001b[0m \u001b[0mrange\u001b[0m\u001b[0;34m(\u001b[0m\u001b[0mlen\u001b[0m\u001b[0;34m(\u001b[0m\u001b[0mX_test_std\u001b[0m\u001b[0;34m)\u001b[0m\u001b[0;34m)\u001b[0m\u001b[0;34m:\u001b[0m\u001b[0;34m\u001b[0m\u001b[0;34m\u001b[0m\u001b[0m\n\u001b[1;32m     25\u001b[0m             \u001b[0;32mif\u001b[0m \u001b[0mpredictlist\u001b[0m\u001b[0;34m[\u001b[0m\u001b[0mm\u001b[0m\u001b[0;34m]\u001b[0m \u001b[0;34m==\u001b[0m \u001b[0mY_test\u001b[0m\u001b[0;34m[\u001b[0m\u001b[0mm\u001b[0m\u001b[0;34m]\u001b[0m\u001b[0;34m:\u001b[0m\u001b[0;34m\u001b[0m\u001b[0;34m\u001b[0m\u001b[0m\n",
      "\u001b[0;32m~/DS_MIMIC/analysis/DS_MIMIC_knn.py\u001b[0m in \u001b[0;36mMYknn\u001b[0;34m(test_object, training_object, training_object_target, K)\u001b[0m\n\u001b[1;32m     55\u001b[0m         \u001b[0mclassCount\u001b[0m \u001b[0;34m=\u001b[0m \u001b[0;34m{\u001b[0m\u001b[0;34m}\u001b[0m\u001b[0;34m\u001b[0m\u001b[0;34m\u001b[0m\u001b[0m\n\u001b[1;32m     56\u001b[0m         \u001b[0;32mfor\u001b[0m \u001b[0mi\u001b[0m \u001b[0;32min\u001b[0m \u001b[0mrange\u001b[0m\u001b[0;34m(\u001b[0m\u001b[0mK\u001b[0m\u001b[0;34m)\u001b[0m\u001b[0;34m:\u001b[0m\u001b[0;34m\u001b[0m\u001b[0;34m\u001b[0m\u001b[0m\n\u001b[0;32m---> 57\u001b[0;31m             \u001b[0mvoteIlabel\u001b[0m \u001b[0;34m=\u001b[0m \u001b[0mtraining_object_target\u001b[0m\u001b[0;34m[\u001b[0m\u001b[0msortedDistIndicies\u001b[0m\u001b[0;34m[\u001b[0m\u001b[0mi\u001b[0m\u001b[0;34m]\u001b[0m\u001b[0;34m]\u001b[0m\u001b[0;34m\u001b[0m\u001b[0;34m\u001b[0m\u001b[0m\n\u001b[0m\u001b[1;32m     58\u001b[0m             \u001b[0mclassCount\u001b[0m\u001b[0;34m[\u001b[0m\u001b[0mvoteIlabel\u001b[0m\u001b[0;34m]\u001b[0m \u001b[0;34m=\u001b[0m \u001b[0mclassCount\u001b[0m\u001b[0;34m.\u001b[0m\u001b[0mget\u001b[0m\u001b[0;34m(\u001b[0m\u001b[0mvoteIlabel\u001b[0m\u001b[0;34m,\u001b[0m \u001b[0;36m0\u001b[0m\u001b[0;34m)\u001b[0m \u001b[0;34m+\u001b[0m \u001b[0;36m1\u001b[0m  \u001b[0;31m#Get the value of key from the map and return 0 without key\u001b[0m\u001b[0;34m\u001b[0m\u001b[0;34m\u001b[0m\u001b[0m\n\u001b[1;32m     59\u001b[0m             \u001b[0msortedClassCount\u001b[0m \u001b[0;34m=\u001b[0m \u001b[0msorted\u001b[0m\u001b[0;34m(\u001b[0m\u001b[0mclassCount\u001b[0m\u001b[0;34m.\u001b[0m\u001b[0mitems\u001b[0m\u001b[0;34m(\u001b[0m\u001b[0;34m)\u001b[0m\u001b[0;34m,\u001b[0m \u001b[0mkey\u001b[0m\u001b[0;34m=\u001b[0m\u001b[0moperator\u001b[0m\u001b[0;34m.\u001b[0m\u001b[0mitemgetter\u001b[0m\u001b[0;34m(\u001b[0m\u001b[0;36m1\u001b[0m\u001b[0;34m)\u001b[0m\u001b[0;34m,\u001b[0m \u001b[0mreverse\u001b[0m\u001b[0;34m=\u001b[0m\u001b[0;32mTrue\u001b[0m\u001b[0;34m)\u001b[0m\u001b[0;34m\u001b[0m\u001b[0;34m\u001b[0m\u001b[0m\n",
      "\u001b[0;32m~/anaconda3/lib/python3.8/site-packages/pandas/core/series.py\u001b[0m in \u001b[0;36m__getitem__\u001b[0;34m(self, key)\u001b[0m\n\u001b[1;32m    940\u001b[0m \u001b[0;34m\u001b[0m\u001b[0m\n\u001b[1;32m    941\u001b[0m         \u001b[0;32melif\u001b[0m \u001b[0mkey_is_scalar\u001b[0m\u001b[0;34m:\u001b[0m\u001b[0;34m\u001b[0m\u001b[0;34m\u001b[0m\u001b[0m\n\u001b[0;32m--> 942\u001b[0;31m             \u001b[0;32mreturn\u001b[0m \u001b[0mself\u001b[0m\u001b[0;34m.\u001b[0m\u001b[0m_get_value\u001b[0m\u001b[0;34m(\u001b[0m\u001b[0mkey\u001b[0m\u001b[0;34m)\u001b[0m\u001b[0;34m\u001b[0m\u001b[0;34m\u001b[0m\u001b[0m\n\u001b[0m\u001b[1;32m    943\u001b[0m \u001b[0;34m\u001b[0m\u001b[0m\n\u001b[1;32m    944\u001b[0m         \u001b[0;32mif\u001b[0m \u001b[0mis_hashable\u001b[0m\u001b[0;34m(\u001b[0m\u001b[0mkey\u001b[0m\u001b[0;34m)\u001b[0m\u001b[0;34m:\u001b[0m\u001b[0;34m\u001b[0m\u001b[0;34m\u001b[0m\u001b[0m\n",
      "\u001b[0;32m~/anaconda3/lib/python3.8/site-packages/pandas/core/series.py\u001b[0m in \u001b[0;36m_get_value\u001b[0;34m(self, label, takeable)\u001b[0m\n\u001b[1;32m   1049\u001b[0m \u001b[0;34m\u001b[0m\u001b[0m\n\u001b[1;32m   1050\u001b[0m         \u001b[0;31m# Similar to Index.get_value, but we do not fall back to positional\u001b[0m\u001b[0;34m\u001b[0m\u001b[0;34m\u001b[0m\u001b[0;34m\u001b[0m\u001b[0m\n\u001b[0;32m-> 1051\u001b[0;31m         \u001b[0mloc\u001b[0m \u001b[0;34m=\u001b[0m \u001b[0mself\u001b[0m\u001b[0;34m.\u001b[0m\u001b[0mindex\u001b[0m\u001b[0;34m.\u001b[0m\u001b[0mget_loc\u001b[0m\u001b[0;34m(\u001b[0m\u001b[0mlabel\u001b[0m\u001b[0;34m)\u001b[0m\u001b[0;34m\u001b[0m\u001b[0;34m\u001b[0m\u001b[0m\n\u001b[0m\u001b[1;32m   1052\u001b[0m         \u001b[0;32mreturn\u001b[0m \u001b[0mself\u001b[0m\u001b[0;34m.\u001b[0m\u001b[0mindex\u001b[0m\u001b[0;34m.\u001b[0m\u001b[0m_get_values_for_loc\u001b[0m\u001b[0;34m(\u001b[0m\u001b[0mself\u001b[0m\u001b[0;34m,\u001b[0m \u001b[0mloc\u001b[0m\u001b[0;34m,\u001b[0m \u001b[0mlabel\u001b[0m\u001b[0;34m)\u001b[0m\u001b[0;34m\u001b[0m\u001b[0;34m\u001b[0m\u001b[0m\n\u001b[1;32m   1053\u001b[0m \u001b[0;34m\u001b[0m\u001b[0m\n",
      "\u001b[0;32m~/anaconda3/lib/python3.8/site-packages/pandas/core/indexes/base.py\u001b[0m in \u001b[0;36mget_loc\u001b[0;34m(self, key, method, tolerance)\u001b[0m\n\u001b[1;32m   3361\u001b[0m                 \u001b[0;32mreturn\u001b[0m \u001b[0mself\u001b[0m\u001b[0;34m.\u001b[0m\u001b[0m_engine\u001b[0m\u001b[0;34m.\u001b[0m\u001b[0mget_loc\u001b[0m\u001b[0;34m(\u001b[0m\u001b[0mcasted_key\u001b[0m\u001b[0;34m)\u001b[0m\u001b[0;34m\u001b[0m\u001b[0;34m\u001b[0m\u001b[0m\n\u001b[1;32m   3362\u001b[0m             \u001b[0;32mexcept\u001b[0m \u001b[0mKeyError\u001b[0m \u001b[0;32mas\u001b[0m \u001b[0merr\u001b[0m\u001b[0;34m:\u001b[0m\u001b[0;34m\u001b[0m\u001b[0;34m\u001b[0m\u001b[0m\n\u001b[0;32m-> 3363\u001b[0;31m                 \u001b[0;32mraise\u001b[0m \u001b[0mKeyError\u001b[0m\u001b[0;34m(\u001b[0m\u001b[0mkey\u001b[0m\u001b[0;34m)\u001b[0m \u001b[0;32mfrom\u001b[0m \u001b[0merr\u001b[0m\u001b[0;34m\u001b[0m\u001b[0;34m\u001b[0m\u001b[0m\n\u001b[0m\u001b[1;32m   3364\u001b[0m \u001b[0;34m\u001b[0m\u001b[0m\n\u001b[1;32m   3365\u001b[0m         \u001b[0;32mif\u001b[0m \u001b[0mis_scalar\u001b[0m\u001b[0;34m(\u001b[0m\u001b[0mkey\u001b[0m\u001b[0;34m)\u001b[0m \u001b[0;32mand\u001b[0m \u001b[0misna\u001b[0m\u001b[0;34m(\u001b[0m\u001b[0mkey\u001b[0m\u001b[0;34m)\u001b[0m \u001b[0;32mand\u001b[0m \u001b[0;32mnot\u001b[0m \u001b[0mself\u001b[0m\u001b[0;34m.\u001b[0m\u001b[0mhasnans\u001b[0m\u001b[0;34m:\u001b[0m\u001b[0;34m\u001b[0m\u001b[0;34m\u001b[0m\u001b[0m\n",
      "\u001b[0;31mKeyError\u001b[0m: 239"
     ]
    }
   ],
   "source": [
    "## from sklearn.model_selection import train_test_split\n",
    "from DS_MIMIC_knn import *\n",
    "import numpy as np\n",
    "# from sklearn.neighbors import KNeighborsClassifier\n",
    "from sklearn.preprocessing import StandardScaler\n",
    "\n",
    "X_train, X_test, Y_train, Y_test = train_test_split(X, y, test_size=0.2,random_state=40)  # the value will sa\n",
    "\n",
    "std= StandardScaler()\n",
    "X_train_std=std.fit_transform(X_train)\n",
    "X_test_std=std.fit_transform(X_test)\n",
    "My_knncomper_difftest(10, X_train_std, X_test_std, Y_train, Y_test)"
   ]
  },
  {
   "cell_type": "markdown",
   "metadata": {
    "id": "CZQfLUhKYK4I",
    "tags": []
   },
   "source": [
    "---------------------\n",
    "# Find dod ID\n"
   ]
  },
  {
   "cell_type": "code",
   "execution_count": null,
   "metadata": {},
   "outputs": [],
   "source": [
    "raise TypeError"
   ]
  },
  {
   "cell_type": "code",
   "execution_count": null,
   "metadata": {
    "colab": {
     "base_uri": "https://localhost:8080/",
     "height": 287
    },
    "executionInfo": {
     "elapsed": 164,
     "status": "error",
     "timestamp": 1650986591153,
     "user": {
      "displayName": "Jianzhang Ni",
      "userId": "18109982546966884557"
     },
     "user_tz": -60
    },
    "id": "Mb6o-NP7d5Oa",
    "outputId": "46e24186-2640-45ed-ba8d-026c7a8a2ea3"
   },
   "outputs": [],
   "source": [
    "# fillnan_test.set_index('subject_id',inplae=True)"
   ]
  },
  {
   "cell_type": "code",
   "execution_count": null,
   "metadata": {
    "colab": {
     "base_uri": "https://localhost:8080/"
    },
    "executionInfo": {
     "elapsed": 162,
     "status": "ok",
     "timestamp": 1650987090215,
     "user": {
      "displayName": "Jianzhang Ni",
      "userId": "18109982546966884557"
     },
     "user_tz": -60
    },
    "id": "o7BmRI1fYJzH",
    "outputId": "3cfb0b6b-567e-434a-ab9d-ee04f1510ab7"
   },
   "outputs": [],
   "source": [
    "# dod_id=cohort[cohort['dod']==1]\n",
    "# test = dod_id.join(fillnan_test,how='left')\n",
    "# np.count_nonzero(test['stay_id']>1)"
   ]
  },
  {
   "cell_type": "code",
   "execution_count": null,
   "metadata": {
    "colab": {
     "base_uri": "https://localhost:8080/",
     "height": 455
    },
    "executionInfo": {
     "elapsed": 180,
     "status": "ok",
     "timestamp": 1650987019343,
     "user": {
      "displayName": "Jianzhang Ni",
      "userId": "18109982546966884557"
     },
     "user_tz": -60
    },
    "id": "hofjsvzjfprN",
    "outputId": "2e4f7978-74ec-4d63-fb73-f2389a46f915"
   },
   "outputs": [],
   "source": [
    "dod_id"
   ]
  },
  {
   "cell_type": "code",
   "execution_count": null,
   "metadata": {
    "colab": {
     "base_uri": "https://localhost:8080/"
    },
    "executionInfo": {
     "elapsed": 157,
     "status": "ok",
     "timestamp": 1650987052792,
     "user": {
      "displayName": "Jianzhang Ni",
      "userId": "18109982546966884557"
     },
     "user_tz": -60
    },
    "id": "2hL6wMqYfyge",
    "outputId": "f7d3bd47-d9aa-48ba-ddeb-a1eb3dc6a543"
   },
   "outputs": [],
   "source": [
    "test['stay_id']"
   ]
  },
  {
   "cell_type": "markdown",
   "metadata": {
    "id": "x9-lwciv93dK"
   },
   "source": [
    "# Load output event"
   ]
  },
  {
   "cell_type": "code",
   "execution_count": null,
   "metadata": {
    "id": "AchUBRU_-DrB"
   },
   "outputs": [],
   "source": [
    "outevents = pd.read_csv('../data/icu/outputevents.csv')\n",
    "itmes = pd.read_csv('../data/icu/d_items.csv')"
   ]
  },
  {
   "cell_type": "code",
   "execution_count": null,
   "metadata": {
    "id": "suuR6hQp_PYz"
   },
   "outputs": [],
   "source": [
    "test_main = cohort.copy()"
   ]
  },
  {
   "cell_type": "code",
   "execution_count": null,
   "metadata": {
    "id": "lcQx5ujxDENm"
   },
   "outputs": [],
   "source": [
    "out = outevents[outevents['subject_id'].isin(test_main.index)]"
   ]
  },
  {
   "cell_type": "code",
   "execution_count": null,
   "metadata": {
    "colab": {
     "base_uri": "https://localhost:8080/",
     "height": 267
    },
    "executionInfo": {
     "elapsed": 143002,
     "status": "ok",
     "timestamp": 1650977419014,
     "user": {
      "displayName": "Jianzhang Ni",
      "userId": "18109982546966884557"
     },
     "user_tz": -60
    },
    "id": "UVsGelj5SJsl",
    "outputId": "bdb94a69-d7c2-4f77-b2aa-2357e3df7e7e"
   },
   "outputs": [],
   "source": [
    "for i in range(out.shape[0]):\n",
    "    entry = out.iloc[i,:]\n",
    "    sub_id, itemid = entry[['subject_id', 'itemid']]\n",
    "    test_main.loc[sub_id, itemid] = entry['value']\n",
    "test_main.head() "
   ]
  },
  {
   "cell_type": "code",
   "execution_count": null,
   "metadata": {
    "id": "i2inc68lEkM1"
   },
   "outputs": [],
   "source": []
  }
 ],
 "metadata": {
  "colab": {
   "collapsed_sections": [],
   "name": "I61",
   "provenance": []
  },
  "kernelspec": {
   "display_name": "Python 3 (ipykernel)",
   "language": "python",
   "name": "python3"
  },
  "language_info": {
   "codemirror_mode": {
    "name": "ipython",
    "version": 3
   },
   "file_extension": ".py",
   "mimetype": "text/x-python",
   "name": "python",
   "nbconvert_exporter": "python",
   "pygments_lexer": "ipython3",
   "version": "3.8.12"
  },
  "widgets": {
   "application/vnd.jupyter.widget-state+json": {
    "state": {},
    "version_major": 2,
    "version_minor": 0
   }
  }
 },
 "nbformat": 4,
 "nbformat_minor": 4
}
